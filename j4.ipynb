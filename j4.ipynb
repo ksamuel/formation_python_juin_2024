{
 "cells": [
  {
   "cell_type": "markdown",
   "id": "755e2b1f-db8c-4bed-b6d1-c3db39ea98aa",
   "metadata": {},
   "source": [
    "# @Decorators"
   ]
  },
  {
   "cell_type": "code",
   "execution_count": 4,
   "id": "1e5b51eb-ebc3-450c-b349-348b5922b54c",
   "metadata": {},
   "outputs": [
    {
     "name": "stdout",
     "output_type": "stream",
     "text": [
      "Ecriture de l'attribut avece 1\n"
     ]
    }
   ],
   "source": [
    "import random\n",
    "\n",
    "class Voiture:\n",
    "\n",
    "    def __init__(self, couleur, carburant):\n",
    "        self.couleur = couleur\n",
    "        self.carburant = carburant\n",
    "\n",
    "    def rouler(self):\n",
    "        print('vroom')\n",
    "        self.carburant -= 1\n",
    "\n",
    "    def __repr__(self):\n",
    "        return f\"Voiture({self.couleur}, {self.carburant})\"\n",
    "    \n",
    "    @classmethod \n",
    "    def creer_flotte(cls, nombre, couleur, carburant):\n",
    "        flotte = []\n",
    "        for _ in range(nombre):\n",
    "            flotte.append(cls(couleur, carburant))\n",
    "        return flotte\n",
    "\n",
    "    @property\n",
    "    def nombre_de_moustiques_sur_le_pare_brise(self):\n",
    "        return random.randint(0, 100)\n",
    "\n",
    "    @nombre_de_moustiques_sur_le_pare_brise.setter\n",
    "    def nombre_de_moustiques_sur_le_pare_brise(self, value):\n",
    "        print(\"Ecriture de l'attribut avec\", value)\n",
    "\n",
    "\n",
    "flotte = Voiture.creer_flotte(3, \"jaune\", 10)\n",
    "\n",
    "clio = flotte[0]\n",
    "\n",
    "clio.nombre_de_moustiques_sur_le_pare_brise = 1\n"
   ]
  },
  {
   "cell_type": "code",
   "execution_count": 17,
   "id": "77feaed2-51c2-4eb0-8f7a-0a18697d8c6e",
   "metadata": {},
   "outputs": [
    {
     "name": "stdout",
     "output_type": "stream",
     "text": [
      "10\n",
      "10\n",
      "10\n",
      "10\n",
      "10\n",
      "10\n"
     ]
    }
   ],
   "source": [
    "from functools import lru_cache\n",
    "\n",
    "import time \n",
    "\n",
    "@lru_cache\n",
    "def une_fonction_lente():\n",
    "    time.sleep(5)\n",
    "    return 10\n",
    "\n",
    "print(une_fonction_lente())\n",
    "print(une_fonction_lente())\n",
    "print(une_fonction_lente())\n",
    "print(une_fonction_lente())\n",
    "print(une_fonction_lente())\n",
    "print(une_fonction_lente())\n"
   ]
  },
  {
   "cell_type": "markdown",
   "id": "9f2a348b-d664-489f-85a4-8cbbaf167f76",
   "metadata": {},
   "source": [
    "# Validation"
   ]
  },
  {
   "cell_type": "code",
   "execution_count": 11,
   "id": "6530d28c-a0f2-4866-92fb-f3561474be38",
   "metadata": {},
   "outputs": [
    {
     "name": "stdout",
     "output_type": "stream",
     "text": [
      "carburant : Field required\n"
     ]
    }
   ],
   "source": [
    "from pydantic import BaseModel, Field, ValidationError\n",
    "\n",
    "class Voiture(BaseModel):\n",
    "    couleur: str = \"jaune\"\n",
    "    carburant: int\n",
    "\n",
    "class Flotte(BaseModel):\n",
    "    voitures: list[Voiture]\n",
    "\n",
    "data = {\"couleur\": \"jaune\"}\n",
    "\n",
    "try:\n",
    "    Voiture(**data)\n",
    "except ValidationError as e:\n",
    "    for error in e.errors():\n",
    "        print(\", \".join(error['loc']), \":\", error['msg'])"
   ]
  },
  {
   "cell_type": "code",
   "execution_count": 20,
   "id": "717db311-a505-47e7-9fe9-8d52b7951e4b",
   "metadata": {},
   "outputs": [
    {
     "data": {
      "text/plain": [
       "Voiture(couleur='rouge', carburant='jaune')"
      ]
     },
     "execution_count": 20,
     "metadata": {},
     "output_type": "execute_result"
    }
   ],
   "source": [
    "from dataclasses import dataclass, field\n",
    "\n",
    "@dataclass\n",
    "class Voiture:\n",
    "    couleur: str = \"jaune\"\n",
    "    carburant: int = 10\n",
    "\n",
    "    def __post_init__(self):\n",
    "        ...\n",
    "\n",
    "# Creer des attributs de classe\n",
    "class AutreVoiture:\n",
    "    couleur: str = \"jaune\"\n",
    "    carburant: int = 10\n",
    "\n",
    "\n",
    "        \n",
    "@dataclass\n",
    "class Flotte:\n",
    "    # Ne pas utiliser des objets mutables en valeur par default\n",
    "    # voitures: list[Voiture] = []\n",
    "    voitures: list[Voiture] = field(default_factory=list)\n",
    "\n",
    "Voiture(couleur=\"rouge\", carburant=\"jaune\")\n"
   ]
  },
  {
   "cell_type": "code",
   "execution_count": 21,
   "id": "a9595193-1026-49bd-9d5b-13bd97d0d473",
   "metadata": {},
   "outputs": [
    {
     "data": {
      "text/plain": [
       "[1]"
      ]
     },
     "execution_count": 21,
     "metadata": {},
     "output_type": "execute_result"
    }
   ],
   "source": [
    "def ajouter_nombre(liste=None):\n",
    "    liste = liste or []\n",
    "    liste.append(1)\n",
    "    return liste\n",
    "\n",
    "ajouter_nombre()\n",
    "ajouter_nombre()\n",
    "ajouter_nombre()"
   ]
  },
  {
   "cell_type": "markdown",
   "id": "bd359cf2-1c7b-40f6-a614-427fd7fa5180",
   "metadata": {},
   "source": [
    "# Iteration"
   ]
  },
  {
   "cell_type": "code",
   "execution_count": 33,
   "id": "76093c27-d2f3-438c-bbb7-4f5be04b5ca2",
   "metadata": {},
   "outputs": [
    {
     "name": "stdout",
     "output_type": "stream",
     "text": [
      "rouge\n",
      "jaune\n",
      "vert\n"
     ]
    }
   ],
   "source": [
    "fruits = [\"banane\", \"pomme\", \"kiwi\"]\n",
    "couleurs = {\"jaune\", \"rouge\", \"vert\"}\n",
    "nombres = (1, 2, 3)\n",
    "\n",
    "# ce que fait une boucle\n",
    "iterator = iter(couleurs)\n",
    "print(next(iterator))\n",
    "print(next(iterator))\n",
    "print(next(iterator))\n"
   ]
  },
  {
   "cell_type": "code",
   "execution_count": 12,
   "id": "c894a38d-d07e-4d0c-a63e-7d0fa5e553c4",
   "metadata": {},
   "outputs": [
    {
     "name": "stdout",
     "output_type": "stream",
     "text": [
      "Debut\n",
      "1\n"
     ]
    }
   ],
   "source": [
    "# fonction\n",
    "def toto():\n",
    "    print('Debut')\n",
    "    return 1\n",
    "    print('Milieu')\n",
    "    return 2\n",
    "    print('Avant la fin')\n",
    "    return 3\n",
    "    print('Apres la fin')\n",
    "\n",
    "result = toto()\n",
    "\n",
    "print(result)"
   ]
  },
  {
   "cell_type": "code",
   "execution_count": 51,
   "id": "6e1a7e92-1d77-4dd1-816d-703ca4cd64fe",
   "metadata": {},
   "outputs": [
    {
     "name": "stdout",
     "output_type": "stream",
     "text": [
      "Debut\n",
      "Milieu\n",
      "Avant la fin\n",
      "Apres la fin\n"
     ]
    }
   ],
   "source": [
    "# generateur\n",
    "def toto():\n",
    "    print('Debut')\n",
    "    yield 1\n",
    "    print('Milieu')\n",
    "    yield 2\n",
    "    print('Avant la fin')\n",
    "    yield 3\n",
    "    print('Apres la fin')\n",
    "\n",
    "generator = toto()\n",
    "\n",
    "for element in generator:\n",
    "    print(element)"
   ]
  },
  {
   "cell_type": "code",
   "execution_count": 59,
   "id": "7e79ac11-5b00-42e7-961a-d25d96dd073e",
   "metadata": {},
   "outputs": [
    {
     "name": "stdout",
     "output_type": "stream",
     "text": [
      "0\n",
      "1\n",
      "4\n",
      "9\n",
      "16\n",
      "25\n",
      "36\n",
      "49\n",
      "64\n",
      "81\n"
     ]
    }
   ],
   "source": [
    "def carres(n=10):\n",
    "    for x in range(n):\n",
    "        yield x * x\n",
    "\n",
    "for i in carres(10):\n",
    "    print(i)"
   ]
  },
  {
   "cell_type": "code",
   "execution_count": 62,
   "id": "62e2d554-3476-4902-b833-aa07296e6f8a",
   "metadata": {},
   "outputs": [
    {
     "name": "stdout",
     "output_type": "stream",
     "text": [
      "DALLAS/FORT WORTH INTL ARPT 803\n",
      "SACRAMENTO INTL 676\n",
      "SALT LAKE CITY INTL 479\n"
     ]
    }
   ],
   "source": [
    "import openpyxl\n",
    "from collections import Counter\n",
    "\n",
    "book = openpyxl.load_workbook(\"bird_strikes.xlsx\")\n",
    "    \n",
    "sheet = book.worksheets[0]\n",
    "\n",
    "rows = sheet.iter_rows(min_row=1, min_col=1, max_col=26)\n",
    "\n",
    "def get_airports():\n",
    "    for row in rows:\n",
    "        yield row[2].value\n",
    "\n",
    "\n",
    "stats = Counter(get_airports())\n",
    "for name, stats in stats.most_common(3):\n",
    "    print(name, stats)"
   ]
  },
  {
   "cell_type": "code",
   "execution_count": 15,
   "id": "7405492c-87e4-4a57-bbb8-f3758583b4c9",
   "metadata": {},
   "outputs": [
    {
     "data": {
      "text/plain": [
       "[0, 4, 16, 36, 64]"
      ]
     },
     "execution_count": 15,
     "metadata": {},
     "output_type": "execute_result"
    }
   ],
   "source": [
    "# listes en intension, comprehension lists\n",
    "\n",
    "carres = []\n",
    "for n in range(10):\n",
    "    if n % 2== 0:\n",
    "        carres.append(n * n)\n",
    "\n",
    "\n",
    "carres = [n * n for n in range(10) if n % 2== 0]\n",
    "carres"
   ]
  },
  {
   "cell_type": "code",
   "execution_count": 16,
   "id": "2b7ef334-a0d4-42ef-9e2b-77a847f2d2e7",
   "metadata": {},
   "outputs": [
    {
     "data": {
      "text/plain": [
       "{0, 4, 16, 36, 64}"
      ]
     },
     "execution_count": 16,
     "metadata": {},
     "output_type": "execute_result"
    }
   ],
   "source": [
    "{n * n for n in range(10) if n % 2== 0}"
   ]
  },
  {
   "cell_type": "code",
   "execution_count": 18,
   "id": "4897f8ed-fa35-4da2-8bd1-d95e65aa9ca9",
   "metadata": {},
   "outputs": [
    {
     "data": {
      "text/plain": [
       "{0: 0, 2: 4, 4: 16, 6: 36, 8: 64}"
      ]
     },
     "execution_count": 18,
     "metadata": {},
     "output_type": "execute_result"
    }
   ],
   "source": [
    "{n: n * n for n in range(10) if n % 2== 0}"
   ]
  },
  {
   "cell_type": "code",
   "execution_count": 20,
   "id": "9b4902dc-aac9-49fd-aa2b-ada4d6946a72",
   "metadata": {},
   "outputs": [
    {
     "data": {
      "text/plain": [
       "[0, 4, 16, 36, 64]"
      ]
     },
     "execution_count": 20,
     "metadata": {},
     "output_type": "execute_result"
    }
   ],
   "source": [
    "list(n * n for n in range(10) if n % 2== 0)"
   ]
  },
  {
   "cell_type": "code",
   "execution_count": 28,
   "id": "d2af568c-9725-4666-91c2-85d29ac7d8eb",
   "metadata": {},
   "outputs": [
    {
     "name": "stdout",
     "output_type": "stream",
     "text": [
      "oui\n"
     ]
    }
   ],
   "source": [
    "with open('requirements.txt', encoding=\"utf8\") as f:\n",
    "    if any (line.startswith('#') for line in f):\n",
    "        print('oui')"
   ]
  },
  {
   "cell_type": "code",
   "execution_count": 34,
   "id": "c5afea1b-c64b-4701-aa49-f7c979f8e4e1",
   "metadata": {},
   "outputs": [
    {
     "name": "stdout",
     "output_type": "stream",
     "text": [
      "banane jaune\n",
      "pomme rouge\n",
      "kiwi vert\n",
      "1 banane\n",
      "2 pomme\n",
      "3 kiwi\n"
     ]
    }
   ],
   "source": [
    "fruits = [\"banane\", \"pomme\", \"kiwi\"]\n",
    "couleurs = [\"jaune\", \"rouge\", \"vert\"]\n",
    "\n",
    "for f, c in zip(fruits, couleurs):\n",
    "    print(f, c)\n",
    "\n",
    "for i, fruit in enumerate(fruits, 1):\n",
    "    print(i, fruit)"
   ]
  },
  {
   "cell_type": "code",
   "execution_count": 40,
   "id": "b9275494-7e3d-49fb-a32c-ed2a5d915cf8",
   "metadata": {},
   "outputs": [
    {
     "data": {
      "text/plain": [
       "64"
      ]
     },
     "execution_count": 40,
     "metadata": {},
     "output_type": "execute_result"
    }
   ],
   "source": [
    "max(n * n for n in range(10) if n % 2== 0)"
   ]
  },
  {
   "cell_type": "code",
   "execution_count": 92,
   "id": "06daea25-1c85-4f4d-9b5d-65ec426911b2",
   "metadata": {},
   "outputs": [
    {
     "name": "stdout",
     "output_type": "stream",
     "text": [
      "banane\n",
      "pomme\n",
      "kiwi\n",
      "jaune\n",
      "rouge\n",
      "vert\n",
      "a z\n",
      "z e\n",
      "e r\n",
      "r t\n",
      "t y\n",
      "y u\n",
      "u i\n",
      "i o\n",
      "o p\n"
     ]
    }
   ],
   "source": [
    "import itertools\n",
    "\n",
    "for x in itertools.chain(fruits, couleurs):\n",
    "    print(x)\n",
    "\n",
    "for l1, l2 in itertools.pairwise(\"azertyuiop\"):\n",
    "    print(l1, l2)"
   ]
  },
  {
   "cell_type": "code",
   "execution_count": 96,
   "id": "878ade9d-61b3-4479-954d-818edde50ab6",
   "metadata": {},
   "outputs": [
    {
     "data": {
      "text/plain": [
       "<itertools.product at 0x1b4482b8580>"
      ]
     },
     "execution_count": 96,
     "metadata": {},
     "output_type": "execute_result"
    }
   ],
   "source": [
    "import product\n",
    "\n",
    "for fruit, couleur in product(fruits, couleurs):\n",
    "    print(fruit, couleur)"
   ]
  },
  {
   "cell_type": "code",
   "execution_count": 102,
   "id": "18b26317-aaa9-43db-852a-f15ff41b90a3",
   "metadata": {},
   "outputs": [
    {
     "name": "stdout",
     "output_type": "stream",
     "text": [
      "('banane', 'pomme', 'kiwi') ('banane', 'kiwi', 'pomme') ('pomme', 'banane', 'kiwi') ('pomme', 'kiwi', 'banane') ('kiwi', 'banane', 'pomme') ('kiwi', 'pomme', 'banane')\n"
     ]
    }
   ],
   "source": [
    "from itertools import permutations\n",
    "\n",
    "print(*permutations(fruits, 3))"
   ]
  },
  {
   "cell_type": "code",
   "execution_count": 104,
   "id": "26c6d8a8-7cc0-4fc6-9e55-e9e1026fef63",
   "metadata": {},
   "outputs": [
    {
     "data": {
      "text/plain": [
       "(('banane', 'pomme', 'kiwi'),\n",
       " ('banane', 'kiwi', 'pomme'),\n",
       " ('pomme', 'banane', 'kiwi'),\n",
       " ('pomme', 'kiwi', 'banane'))"
      ]
     },
     "execution_count": 104,
     "metadata": {},
     "output_type": "execute_result"
    }
   ],
   "source": [
    "tuple(permutations(fruits, 3))[:4]"
   ]
  },
  {
   "cell_type": "code",
   "execution_count": 41,
   "id": "cf33f368-f949-4324-839a-cfbd4f3c3858",
   "metadata": {},
   "outputs": [
    {
     "name": "stdout",
     "output_type": "stream",
     "text": [
      "- DALLAS/FORT WORTH INTL ARPT: 803\n",
      "- SACRAMENTO INTL: 676\n",
      "- SALT LAKE CITY INTL: 479\n"
     ]
    }
   ],
   "source": [
    "import openpyxl\n",
    "from collections import Counter\n",
    "\n",
    "def load_aiports():\n",
    "    book = openpyxl.load_workbook(\"bird_strikes.xlsx\")\n",
    "    sheet = book.worksheets[0]\n",
    "    rows = sheet.iter_rows(min_row=1, min_col=1, max_col=26)\n",
    "    for row in rows:\n",
    "        yield row[2].value\n",
    "\n",
    "def get_most_commons(airports, n=3):\n",
    "    stats = Counter(airports)\n",
    "    return stats.most_common(3)\n",
    "\n",
    "def formated_list(aiports):\n",
    "    return (f\"- {airport}: {strikes}\" for airport, strikes in aiports)\n",
    "\n",
    "def print_list(formated_list):\n",
    "    for element in formated_list:\n",
    "        print(element)\n",
    "\n",
    "aiports = load_aiports()\n",
    "common_aiports = get_most_commons(aiports)\n",
    "formated_airports = formated_list(common_aiports)\n",
    "print_list(formated_airports)"
   ]
  },
  {
   "cell_type": "code",
   "execution_count": 116,
   "id": "56eeebe3-cc07-48ac-bff4-ded6fd5236df",
   "metadata": {},
   "outputs": [
    {
     "data": {
      "text/plain": [
       "[1, 1, 1]"
      ]
     },
     "execution_count": 116,
     "metadata": {},
     "output_type": "execute_result"
    }
   ],
   "source": [
    "list(map(int, \"123\"))\n",
    "\n",
    "list(filter(None, [1, 0, 0, 1, 0, 0, 1]))"
   ]
  },
  {
   "cell_type": "markdown",
   "id": "fc8808c9-067b-4399-a91a-5296f8852469",
   "metadata": {},
   "source": [
    "# Modules utiles de la stdlib"
   ]
  },
  {
   "cell_type": "code",
   "execution_count": 120,
   "id": "98aff3cb-af6e-40ee-8bd7-ad0925d363a8",
   "metadata": {},
   "outputs": [
    {
     "data": {
      "text/plain": [
       "'0695173666'"
      ]
     },
     "execution_count": 120,
     "metadata": {},
     "output_type": "execute_result"
    }
   ],
   "source": [
    "texte = \"Je j'appelle kevin et mon numéro est le 0695173666 et j'ai 39 ans\"\n",
    "\n",
    "import re\n",
    "\n",
    "re.search(r'\\d+', texte).group()"
   ]
  },
  {
   "cell_type": "code",
   "execution_count": 43,
   "id": "db8d2737-dd59-4d10-b16d-6b09c9cd4e59",
   "metadata": {},
   "outputs": [
    {
     "name": "stdout",
     "output_type": "stream",
     "text": [
      "deque([], maxlen=3)\n",
      "deque(['banane'], maxlen=3)\n",
      "deque(['banane', 'pomme'], maxlen=3)\n",
      "deque(['banane', 'pomme', 'kiwi'], maxlen=3)\n",
      "deque(['pomme', 'kiwi', 'poire'], maxlen=3)\n"
     ]
    }
   ],
   "source": [
    "from collections import deque \n",
    "\n",
    "d = deque(maxlen=3)\n",
    "print(d)\n",
    "d.append('banane')\n",
    "print(d)\n",
    "d.append('pomme')\n",
    "print(d)\n",
    "d.append('kiwi')\n",
    "print(d)\n",
    "d.append('poire')\n",
    "print(d)\n"
   ]
  },
  {
   "cell_type": "code",
   "execution_count": 134,
   "id": "22f94ed7-a049-4f10-b4ae-fbae3c5d7af5",
   "metadata": {},
   "outputs": [
    {
     "name": "stdout",
     "output_type": "stream",
     "text": [
      "[]\n"
     ]
    }
   ],
   "source": [
    "from copy import copy\n",
    "\n",
    "a = []\n",
    "b = a.copy()\n",
    "\n",
    "a.append(1)\n",
    "print(b)"
   ]
  },
  {
   "cell_type": "code",
   "execution_count": 151,
   "id": "d2716cd4-57e7-47de-a3d0-2bcc9d6b38c7",
   "metadata": {},
   "outputs": [
    {
     "data": {
      "text/plain": [
       "Decimal('0.3')"
      ]
     },
     "execution_count": 151,
     "metadata": {},
     "output_type": "execute_result"
    }
   ],
   "source": [
    "from decimal import Decimal\n",
    "\n",
    "Decimal(\"0.1\") + Decimal(\"0.2\")"
   ]
  },
  {
   "cell_type": "code",
   "execution_count": 152,
   "id": "a5a5f209-c6dd-4389-bd5a-2733ae75fcb4",
   "metadata": {},
   "outputs": [
    {
     "data": {
      "text/plain": [
       "2"
      ]
     },
     "execution_count": 152,
     "metadata": {},
     "output_type": "execute_result"
    }
   ],
   "source": [
    "import statistics\n",
    "\n",
    "statistics.mean([1, 2, 3])"
   ]
  },
  {
   "cell_type": "code",
   "execution_count": 195,
   "id": "df6599c1-dbeb-49ec-9207-ff677b1a98cf",
   "metadata": {},
   "outputs": [
    {
     "data": {
      "text/plain": [
       "'c74f29c89a721bfc49e7126d7f9f3fc1'"
      ]
     },
     "execution_count": 195,
     "metadata": {},
     "output_type": "execute_result"
    }
   ],
   "source": [
    "import hashlib\n",
    "from pathlib import Path\n",
    "\n",
    "\n",
    "text = Path(r'C:\\Users\\user\\Desktop\\formation_python_plb_juin_2024\\requirements.txt').read_text()\n",
    "hashlib.md5(text.encode('utf8')) .hexdigest()"
   ]
  },
  {
   "cell_type": "code",
   "execution_count": 209,
   "id": "be01b5db-226c-44f3-8cd3-4f2e2df27acb",
   "metadata": {},
   "outputs": [
    {
     "data": {
      "text/plain": [
       "UUID('bd661f56-0d8f-4c96-a459-41dddb5a3a1d')"
      ]
     },
     "execution_count": 209,
     "metadata": {},
     "output_type": "execute_result"
    }
   ],
   "source": [
    "import uuid\n",
    "\n",
    "uuid.uuid4()"
   ]
  }
 ],
 "metadata": {
  "kernelspec": {
   "display_name": "Python 3 (ipykernel)",
   "language": "python",
   "name": "python3"
  },
  "language_info": {
   "codemirror_mode": {
    "name": "ipython",
    "version": 3
   },
   "file_extension": ".py",
   "mimetype": "text/x-python",
   "name": "python",
   "nbconvert_exporter": "python",
   "pygments_lexer": "ipython3",
   "version": "3.11.9"
  }
 },
 "nbformat": 4,
 "nbformat_minor": 5
}
