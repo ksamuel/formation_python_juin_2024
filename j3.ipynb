{
 "cells": [
  {
   "cell_type": "markdown",
   "id": "5e212098-b7b4-421b-ae22-d7cd27913595",
   "metadata": {},
   "source": [
    "# Manipulation des chemins de fichiers"
   ]
  },
  {
   "cell_type": "code",
   "execution_count": 3,
   "id": "b7716fee-33b5-4944-a1b8-9dcfcefa746e",
   "metadata": {},
   "outputs": [
    {
     "name": "stdout",
     "output_type": "stream",
     "text": [
      "fruits\n",
      ".txt\n",
      "C:\\Users\\user\\Desktop\\formation_python_plb_juin_2024\\fruits.txt\n",
      "\n",
      "Tous les fichiers du dossiers\n",
      "C:\\Users\\user\\Desktop\\formation_python_plb_juin_2024\\.git\n",
      "C:\\Users\\user\\Desktop\\formation_python_plb_juin_2024\\.gitignore\n",
      "C:\\Users\\user\\Desktop\\formation_python_plb_juin_2024\\.ipynb_checkpoints\n",
      "C:\\Users\\user\\Desktop\\formation_python_plb_juin_2024\\.ruff_cache\n",
      "C:\\Users\\user\\Desktop\\formation_python_plb_juin_2024\\.venv\n",
      "C:\\Users\\user\\Desktop\\formation_python_plb_juin_2024\\.vscode\n",
      "C:\\Users\\user\\Desktop\\formation_python_plb_juin_2024\\4114797-uhd_3840_2160_25fps.mp4\n",
      "C:\\Users\\user\\Desktop\\formation_python_plb_juin_2024\\analyse_chanson.py\n",
      "C:\\Users\\user\\Desktop\\formation_python_plb_juin_2024\\bird_strikes.csv\n",
      "C:\\Users\\user\\Desktop\\formation_python_plb_juin_2024\\bird_strikes.xlsx\n",
      "C:\\Users\\user\\Desktop\\formation_python_plb_juin_2024\\count_words.py\n",
      "C:\\Users\\user\\Desktop\\formation_python_plb_juin_2024\\fake_api.py\n",
      "C:\\Users\\user\\Desktop\\formation_python_plb_juin_2024\\fruits.txt\n",
      "C:\\Users\\user\\Desktop\\formation_python_plb_juin_2024\\j1.ipynb\n",
      "C:\\Users\\user\\Desktop\\formation_python_plb_juin_2024\\j2.ipynb\n",
      "C:\\Users\\user\\Desktop\\formation_python_plb_juin_2024\\j3.ipynb\n",
      "C:\\Users\\user\\Desktop\\formation_python_plb_juin_2024\\mon_fichier.txt\n",
      "C:\\Users\\user\\Desktop\\formation_python_plb_juin_2024\\mon_package\n",
      "C:\\Users\\user\\Desktop\\formation_python_plb_juin_2024\\movies.csv\n",
      "C:\\Users\\user\\Desktop\\formation_python_plb_juin_2024\\products.db\n",
      "C:\\Users\\user\\Desktop\\formation_python_plb_juin_2024\\requetes.py\n",
      "C:\\Users\\user\\Desktop\\formation_python_plb_juin_2024\\requirements.txt\n",
      "C:\\Users\\user\\Desktop\\formation_python_plb_juin_2024\\script.py\n",
      "C:\\Users\\user\\Desktop\\formation_python_plb_juin_2024\\song.txt\n",
      "C:\\Users\\user\\Desktop\\formation_python_plb_juin_2024\\Untitled.ipynb\n",
      "C:\\Users\\user\\Desktop\\formation_python_plb_juin_2024\\vlc-help.txt\n",
      "C:\\Users\\user\\Desktop\\formation_python_plb_juin_2024\\__pycache__\n",
      "\n",
      "Tous les notebooks RECURSIVEMENT du dossier\n",
      "C:\\Users\\user\\Desktop\\formation_python_plb_juin_2024\\j1.ipynb\n",
      "C:\\Users\\user\\Desktop\\formation_python_plb_juin_2024\\j2.ipynb\n",
      "C:\\Users\\user\\Desktop\\formation_python_plb_juin_2024\\j3.ipynb\n",
      "C:\\Users\\user\\Desktop\\formation_python_plb_juin_2024\\Untitled.ipynb\n",
      "C:\\Users\\user\\Desktop\\formation_python_plb_juin_2024\\.ipynb_checkpoints\\j1-checkpoint.ipynb\n",
      "C:\\Users\\user\\Desktop\\formation_python_plb_juin_2024\\.ipynb_checkpoints\\j2-checkpoint.ipynb\n",
      "C:\\Users\\user\\Desktop\\formation_python_plb_juin_2024\\.ipynb_checkpoints\\j3-checkpoint.ipynb\n",
      "C:\\Users\\user\\Desktop\\formation_python_plb_juin_2024\\.ipynb_checkpoints\\Untitled-checkpoint.ipynb\n",
      "totototototototototototototototototototototototototototototototo\n"
     ]
    },
    {
     "data": {
      "text/plain": [
       "4"
      ]
     },
     "execution_count": 3,
     "metadata": {},
     "output_type": "execute_result"
    }
   ],
   "source": [
    "from pathlib import Path  # alternative a os.path\n",
    "\n",
    "dossier_en_cours = Path(\".\").absolute()\n",
    "\n",
    "chemin_vers_fichier = dossier_en_cours / \"fruits.txt\"\n",
    "\n",
    "print(chemin_vers_fichier.stem)\n",
    "print(chemin_vers_fichier.suffix)\n",
    "print(chemin_vers_fichier)\n",
    "\n",
    "\n",
    "print(\"\\nTous les fichiers du dossiers\")\n",
    "for path in dossier_en_cours.iterdir():\n",
    "    print(path)\n",
    "\n",
    "print(\"\\nTous les notebooks RECURSIVEMENT du dossier\")\n",
    "for path in dossier_en_cours.rglob(\"*.ipynb\"):\n",
    "    print(path)\n",
    "\n",
    "print(chemin_vers_fichier.read_text(encoding=\"utf8\"))\n",
    "\n",
    "(dossier_en_cours / \"autre.txt\").write_text(\"done\")\n",
    "\n",
    " "
   ]
  },
  {
   "cell_type": "markdown",
   "id": "1490b770-1732-4084-83df-3476d6fd44a3",
   "metadata": {},
   "source": [
    "# Lancer un programme externe"
   ]
  },
  {
   "cell_type": "code",
   "execution_count": 8,
   "id": "5ea53828-6128-4ca3-bd24-85da80920d65",
   "metadata": {},
   "outputs": [
    {
     "name": "stdout",
     "output_type": "stream",
     "text": [
      "- the: 17\n",
      "- and: 16\n",
      "- a: 14\n",
      "- s: 13\n",
      "- to: 13\n",
      "\n"
     ]
    }
   ],
   "source": [
    "import subprocess\n",
    "\n",
    "subprocess.call([\n",
    "    r\"C:\\Program Files\\VideoLAN\\VLC\\vlc.exe\", \n",
    "    \"--fullscreen\", \n",
    "    \"--play-and-exit\",\n",
    "    r\"C:\\Users\\user\\Desktop\\formation_python_plb_juin_2024\\4114797-uhd_3840_2160_25fps.mp4\"\n",
    "])\n",
    "\n",
    "sortie = subprocess.check_output([\n",
    "    r\".venv\\Scripts\\python.exe\", \n",
    "    \"analyse_chanson.py\", \n",
    "    \"song.txt\"\n",
    "])\n",
    "\n",
    "print(sortie.decode(\"utf8\"))"
   ]
  },
  {
   "cell_type": "markdown",
   "id": "187491e2-5c8c-4603-9263-8edde09355cd",
   "metadata": {},
   "source": [
    "# POO"
   ]
  },
  {
   "cell_type": "code",
   "execution_count": 49,
   "id": "4a221fbb-087c-4fea-ba05-f271ec1a32cc",
   "metadata": {},
   "outputs": [
    {
     "name": "stdout",
     "output_type": "stream",
     "text": [
      "vrooooom !\n",
      "Vrooom\n",
      "vrooooom !\n"
     ]
    }
   ],
   "source": [
    "class Vehicule:\n",
    "    def __init__(self, coul, carb):\n",
    "        self.couleur = coul\n",
    "        self.carburant = carb   # attribut\n",
    "\n",
    "    def rouler(self, conso=1): # methode\n",
    "        print('vrooooom !')\n",
    "        self.carburant -= conso\n",
    "\n",
    "\n",
    "class Voiture(Vehicule):\n",
    "\n",
    "    # dunder methods (magic methods)\n",
    "    def __str__(self):\n",
    "        return f\"Voiture de couleur {self.couleur} ({self.carburant}L)\"\n",
    "\n",
    "class Moto(Vehicule):\n",
    "\n",
    "    def __str__(self):\n",
    "        return f\"Moto de couleur {self.couleur} ({self.carburant}L)\"\n",
    "        \n",
    "    def rouler(self, conso=1): \n",
    "        print('Vrooom')\n",
    "        super().rouler(2)\n",
    "\n",
    "\n",
    " \n",
    "clio = Voiture(\"jaune\", 10) # créer une instance\n",
    "clio.rouler()\n",
    "\n",
    "suzu = Moto('Rouge', 3)\n",
    "suzu.rouler()\n",
    "# Faire une class Chaton() avec un age et un nom, et \n",
    "# une methode miauler qui affiche \"miaou\" autant de fois qu'il a d'années"
   ]
  },
  {
   "cell_type": "code",
   "execution_count": 43,
   "id": "eec31f19-944a-4fa3-b6ba-e5692f3fa375",
   "metadata": {},
   "outputs": [
    {
     "name": "stdout",
     "output_type": "stream",
     "text": [
      "miaou\n",
      "miaou\n",
      "miaou\n"
     ]
    }
   ],
   "source": [
    "class Chaton:\n",
    "\n",
    "    def __init__(self, name, age):\n",
    "        self.name = name\n",
    "        self.age = age\n",
    "\n",
    "    def miauler(self):\n",
    "        for _ in range(self.age):\n",
    "            print(\"miaou\")\n",
    "\n",
    "\n",
    "Chaton(\"felix\", 3).miauler()"
   ]
  },
  {
   "cell_type": "code",
   "execution_count": 47,
   "id": "d132428e-d456-4c88-bdaf-63adced1c8a7",
   "metadata": {},
   "outputs": [
    {
     "name": "stdout",
     "output_type": "stream",
     "text": [
      "VROOOm !!!\n"
     ]
    }
   ],
   "source": [
    "class Moteur:\n",
    "\n",
    "    def __init__(self, bruit, carburant, conso):\n",
    "        self.bruit = bruit\n",
    "        self.carburant = carburant\n",
    "        self.conso = conso\n",
    "    \n",
    "    def tourner(self):\n",
    "        print(self.bruit)\n",
    "        self.carburant -= self.conso\n",
    "\n",
    "class MoteurElectrique:\n",
    "\n",
    "    def __init__(self, bruit, carburant, conso):\n",
    "        self.bruit = \"\"\n",
    "        self.carburant = carburant\n",
    "        self.conso = conso\n",
    "\n",
    "\n",
    "class Voiture:\n",
    "    def __init__(self, coul, carb, motor_type=Moteur):\n",
    "        self.couleur = coul\n",
    "        self.moteur = motor_type( 'vrooooom !', carburant=carb, conso=1)\n",
    "\n",
    "    def rouler(self):  \n",
    "        self.moteur.tourner()\n",
    "        \n",
    "    # dunder methods (magic methods)\n",
    "    def __str__(self):\n",
    "        return f\"Voiture de couleur {self.couleur} ({self.carburant}L)\"\n",
    "\n",
    "class Moto:\n",
    "\n",
    "    def rouler(self):  \n",
    "        self.moteur.tourner()\n",
    "\n",
    "    def __init__(self, coul, carb):\n",
    "        self.couleur = coul\n",
    "        self.moteur = Moteur( 'VROOOm !!!', carburant=carb, conso=2)\n",
    "\n",
    "    def __str__(self):\n",
    "        return f\"Moto de couleur {self.couleur} ({self.carburant}L)\"\n",
    "\n",
    "\n",
    "moto = Moto(\"vert\", 5)\n",
    "\n",
    "moto.rouler()"
   ]
  }
 ],
 "metadata": {
  "kernelspec": {
   "display_name": "Python 3 (ipykernel)",
   "language": "python",
   "name": "python3"
  },
  "language_info": {
   "codemirror_mode": {
    "name": "ipython",
    "version": 3
   },
   "file_extension": ".py",
   "mimetype": "text/x-python",
   "name": "python",
   "nbconvert_exporter": "python",
   "pygments_lexer": "ipython3",
   "version": "3.11.9"
  }
 },
 "nbformat": 4,
 "nbformat_minor": 5
}
