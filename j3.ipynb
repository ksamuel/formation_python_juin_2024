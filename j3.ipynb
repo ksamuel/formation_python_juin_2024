{
 "cells": [
  {
   "cell_type": "markdown",
   "id": "5e212098-b7b4-421b-ae22-d7cd27913595",
   "metadata": {},
   "source": [
    "# Manipulation des chemins de fichiers"
   ]
  },
  {
   "cell_type": "code",
   "execution_count": 3,
   "id": "b7716fee-33b5-4944-a1b8-9dcfcefa746e",
   "metadata": {},
   "outputs": [
    {
     "name": "stdout",
     "output_type": "stream",
     "text": [
      "fruits\n",
      ".txt\n",
      "C:\\Users\\user\\Desktop\\formation_python_plb_juin_2024\\fruits.txt\n",
      "\n",
      "Tous les fichiers du dossiers\n",
      "C:\\Users\\user\\Desktop\\formation_python_plb_juin_2024\\.git\n",
      "C:\\Users\\user\\Desktop\\formation_python_plb_juin_2024\\.gitignore\n",
      "C:\\Users\\user\\Desktop\\formation_python_plb_juin_2024\\.ipynb_checkpoints\n",
      "C:\\Users\\user\\Desktop\\formation_python_plb_juin_2024\\.ruff_cache\n",
      "C:\\Users\\user\\Desktop\\formation_python_plb_juin_2024\\.venv\n",
      "C:\\Users\\user\\Desktop\\formation_python_plb_juin_2024\\.vscode\n",
      "C:\\Users\\user\\Desktop\\formation_python_plb_juin_2024\\4114797-uhd_3840_2160_25fps.mp4\n",
      "C:\\Users\\user\\Desktop\\formation_python_plb_juin_2024\\analyse_chanson.py\n",
      "C:\\Users\\user\\Desktop\\formation_python_plb_juin_2024\\bird_strikes.csv\n",
      "C:\\Users\\user\\Desktop\\formation_python_plb_juin_2024\\bird_strikes.xlsx\n",
      "C:\\Users\\user\\Desktop\\formation_python_plb_juin_2024\\count_words.py\n",
      "C:\\Users\\user\\Desktop\\formation_python_plb_juin_2024\\fake_api.py\n",
      "C:\\Users\\user\\Desktop\\formation_python_plb_juin_2024\\fruits.txt\n",
      "C:\\Users\\user\\Desktop\\formation_python_plb_juin_2024\\j1.ipynb\n",
      "C:\\Users\\user\\Desktop\\formation_python_plb_juin_2024\\j2.ipynb\n",
      "C:\\Users\\user\\Desktop\\formation_python_plb_juin_2024\\j3.ipynb\n",
      "C:\\Users\\user\\Desktop\\formation_python_plb_juin_2024\\mon_fichier.txt\n",
      "C:\\Users\\user\\Desktop\\formation_python_plb_juin_2024\\mon_package\n",
      "C:\\Users\\user\\Desktop\\formation_python_plb_juin_2024\\movies.csv\n",
      "C:\\Users\\user\\Desktop\\formation_python_plb_juin_2024\\products.db\n",
      "C:\\Users\\user\\Desktop\\formation_python_plb_juin_2024\\requetes.py\n",
      "C:\\Users\\user\\Desktop\\formation_python_plb_juin_2024\\requirements.txt\n",
      "C:\\Users\\user\\Desktop\\formation_python_plb_juin_2024\\script.py\n",
      "C:\\Users\\user\\Desktop\\formation_python_plb_juin_2024\\song.txt\n",
      "C:\\Users\\user\\Desktop\\formation_python_plb_juin_2024\\Untitled.ipynb\n",
      "C:\\Users\\user\\Desktop\\formation_python_plb_juin_2024\\vlc-help.txt\n",
      "C:\\Users\\user\\Desktop\\formation_python_plb_juin_2024\\__pycache__\n",
      "\n",
      "Tous les notebooks RECURSIVEMENT du dossier\n",
      "C:\\Users\\user\\Desktop\\formation_python_plb_juin_2024\\j1.ipynb\n",
      "C:\\Users\\user\\Desktop\\formation_python_plb_juin_2024\\j2.ipynb\n",
      "C:\\Users\\user\\Desktop\\formation_python_plb_juin_2024\\j3.ipynb\n",
      "C:\\Users\\user\\Desktop\\formation_python_plb_juin_2024\\Untitled.ipynb\n",
      "C:\\Users\\user\\Desktop\\formation_python_plb_juin_2024\\.ipynb_checkpoints\\j1-checkpoint.ipynb\n",
      "C:\\Users\\user\\Desktop\\formation_python_plb_juin_2024\\.ipynb_checkpoints\\j2-checkpoint.ipynb\n",
      "C:\\Users\\user\\Desktop\\formation_python_plb_juin_2024\\.ipynb_checkpoints\\j3-checkpoint.ipynb\n",
      "C:\\Users\\user\\Desktop\\formation_python_plb_juin_2024\\.ipynb_checkpoints\\Untitled-checkpoint.ipynb\n",
      "totototototototototototototototototototototototototototototototo\n"
     ]
    },
    {
     "data": {
      "text/plain": [
       "4"
      ]
     },
     "execution_count": 3,
     "metadata": {},
     "output_type": "execute_result"
    }
   ],
   "source": [
    "from pathlib import Path  # alternative a os.path\n",
    "\n",
    "dossier_en_cours = Path(\".\").absolute()\n",
    "\n",
    "chemin_vers_fichier = dossier_en_cours / \"fruits.txt\"\n",
    "\n",
    "print(chemin_vers_fichier.stem)\n",
    "print(chemin_vers_fichier.suffix)\n",
    "print(chemin_vers_fichier)\n",
    "\n",
    "\n",
    "print(\"\\nTous les fichiers du dossiers\")\n",
    "for path in dossier_en_cours.iterdir():\n",
    "    print(path)\n",
    "\n",
    "print(\"\\nTous les notebooks RECURSIVEMENT du dossier\")\n",
    "for path in dossier_en_cours.rglob(\"*.ipynb\"):\n",
    "    print(path)\n",
    "\n",
    "print(chemin_vers_fichier.read_text(encoding=\"utf8\"))\n",
    "\n",
    "(dossier_en_cours / \"autre.txt\").write_text(\"done\")\n",
    "\n",
    " "
   ]
  },
  {
   "cell_type": "markdown",
   "id": "1490b770-1732-4084-83df-3476d6fd44a3",
   "metadata": {},
   "source": [
    "# Lancer un programme externe"
   ]
  },
  {
   "cell_type": "code",
   "execution_count": 8,
   "id": "5ea53828-6128-4ca3-bd24-85da80920d65",
   "metadata": {},
   "outputs": [
    {
     "name": "stdout",
     "output_type": "stream",
     "text": [
      "- the: 17\n",
      "- and: 16\n",
      "- a: 14\n",
      "- s: 13\n",
      "- to: 13\n",
      "\n"
     ]
    }
   ],
   "source": [
    "import subprocess\n",
    "\n",
    "subprocess.call([\n",
    "    r\"C:\\Program Files\\VideoLAN\\VLC\\vlc.exe\", \n",
    "    \"--fullscreen\", \n",
    "    \"--play-and-exit\",\n",
    "    r\"C:\\Users\\user\\Desktop\\formation_python_plb_juin_2024\\4114797-uhd_3840_2160_25fps.mp4\"\n",
    "])\n",
    "\n",
    "sortie = subprocess.check_output([\n",
    "    r\".venv\\Scripts\\python.exe\", \n",
    "    \"analyse_chanson.py\", \n",
    "    \"song.txt\"\n",
    "])\n",
    "\n",
    "print(sortie.decode(\"utf8\"))"
   ]
  },
  {
   "cell_type": "markdown",
   "id": "187491e2-5c8c-4603-9263-8edde09355cd",
   "metadata": {},
   "source": [
    "# POO"
   ]
  },
  {
   "cell_type": "code",
   "execution_count": 49,
   "id": "4a221fbb-087c-4fea-ba05-f271ec1a32cc",
   "metadata": {},
   "outputs": [
    {
     "name": "stdout",
     "output_type": "stream",
     "text": [
      "vrooooom !\n",
      "Vrooom\n",
      "vrooooom !\n"
     ]
    }
   ],
   "source": [
    "class Vehicule:\n",
    "    def __init__(self, coul, carb):\n",
    "        self.couleur = coul\n",
    "        self.carburant = carb   # attribut\n",
    "\n",
    "    def rouler(self, conso=1): # methode\n",
    "        print('vrooooom !')\n",
    "        self.carburant -= conso\n",
    "\n",
    "\n",
    "class Voiture(Vehicule):\n",
    "\n",
    "    # dunder methods (magic methods)\n",
    "    def __str__(self):\n",
    "        return f\"Voiture de couleur {self.couleur} ({self.carburant}L)\"\n",
    "\n",
    "class Moto(Vehicule):\n",
    "\n",
    "    def __str__(self):\n",
    "        return f\"Moto de couleur {self.couleur} ({self.carburant}L)\"\n",
    "        \n",
    "    def rouler(self, conso=1): \n",
    "        print('Vrooom')\n",
    "        super().rouler(2)\n",
    "\n",
    "\n",
    " \n",
    "clio = Voiture(\"jaune\", 10) # créer une instance\n",
    "clio.rouler()\n",
    "\n",
    "suzu = Moto('Rouge', 3)\n",
    "suzu.rouler()\n",
    "# Faire une class Chaton() avec un age et un nom, et \n",
    "# une methode miauler qui affiche \"miaou\" autant de fois qu'il a d'années"
   ]
  },
  {
   "cell_type": "code",
   "execution_count": 43,
   "id": "eec31f19-944a-4fa3-b6ba-e5692f3fa375",
   "metadata": {},
   "outputs": [
    {
     "name": "stdout",
     "output_type": "stream",
     "text": [
      "miaou\n",
      "miaou\n",
      "miaou\n"
     ]
    }
   ],
   "source": [
    "class Chaton:\n",
    "\n",
    "    def __init__(self, name, age):\n",
    "        self.name = name\n",
    "        self.age = age\n",
    "\n",
    "    def miauler(self):\n",
    "        for _ in range(self.age):\n",
    "            print(\"miaou\")\n",
    "\n",
    "\n",
    "Chaton(\"felix\", 3).miauler()"
   ]
  },
  {
   "cell_type": "code",
   "execution_count": 9,
   "id": "d132428e-d456-4c88-bdaf-63adced1c8a7",
   "metadata": {},
   "outputs": [
    {
     "name": "stdout",
     "output_type": "stream",
     "text": [
      "VROOOm !!!\n"
     ]
    }
   ],
   "source": [
    "class Moteur:\n",
    "\n",
    "    def __init__(self, bruit, carburant, conso):\n",
    "        self.bruit = bruit\n",
    "        self.carburant = carburant\n",
    "        self.conso = conso\n",
    "    \n",
    "    def tourner(self):\n",
    "        print(self.bruit)\n",
    "        self.carburant -= self.conso\n",
    "\n",
    "class MoteurElectrique:\n",
    "\n",
    "    def __init__(self, bruit, carburant, conso):\n",
    "        self.bruit = \"\"\n",
    "        self.carburant = carburant\n",
    "        self.conso = conso\n",
    "\n",
    "\n",
    "class Voiture:\n",
    "    def __init__(self, coul, carb, motor_type=Moteur):\n",
    "        self.couleur = coul\n",
    "        self.moteur = motor_type( 'vrooooom !', carburant=carb, conso=1)\n",
    "\n",
    "    def rouler(self):  \n",
    "        self.moteur.tourner()\n",
    "        \n",
    "    # dunder methods (magic methods)\n",
    "    def __str__(self):\n",
    "        return f\"Voiture de couleur {self.couleur} ({self.carburant}L)\"\n",
    "\n",
    "class Moto:\n",
    "\n",
    "    def rouler(self):  \n",
    "        self.moteur.tourner()\n",
    "\n",
    "    def __init__(self, coul, carb):\n",
    "        self.couleur = coul\n",
    "        self.moteur = Moteur( 'VROOOm !!!', carburant=carb, conso=2)\n",
    "\n",
    "    def __str__(self):\n",
    "        return f\"Moto de couleur {self.couleur} ({self.carburant}L)\"\n",
    "\n",
    "\n",
    "moto = Moto(\"vert\", 5)\n",
    "\n",
    "moto.rouler()"
   ]
  },
  {
   "cell_type": "code",
   "execution_count": 2,
   "id": "9115be05-58f5-4bdb-a9dc-e9d6383e5f1b",
   "metadata": {},
   "outputs": [
    {
     "ename": "SyntaxError",
     "evalue": "invalid syntax (2713283564.py, line 5)",
     "output_type": "error",
     "traceback": [
      "\u001b[1;36m  Cell \u001b[1;32mIn[2], line 5\u001b[1;36m\u001b[0m\n\u001b[1;33m    def least_common(5):\u001b[0m\n\u001b[1;37m                     ^\u001b[0m\n\u001b[1;31mSyntaxError\u001b[0m\u001b[1;31m:\u001b[0m invalid syntax\n"
     ]
    }
   ],
   "source": [
    "from collections import Counter\n",
    "\n",
    "class MonCompteur(Counter):\n",
    "\n",
    "    def least_common(5):\n",
    "        ...\n",
    "\n",
    "MonCompteur()"
   ]
  },
  {
   "cell_type": "code",
   "execution_count": 11,
   "id": "49444880-9fa3-4f6c-9b2e-825d00b78246",
   "metadata": {},
   "outputs": [
    {
     "name": "stdout",
     "output_type": "stream",
     "text": [
      "070-8425-9283\n",
      "mikakosuzuki@example.net\n",
      "767-20-9809\n",
      "長崎県横浜市金沢区松浦町28丁目23番11号\n",
      "080-5685-3744\n",
      "itoshohei@example.net\n",
      "586-90-7211\n",
      "和歌山県渋谷区幸手28丁目1番17号\n",
      "070-3101-2852\n",
      "kana19@example.com\n",
      "429-71-9518\n",
      "新潟県香取郡多古町箭坪10丁目4番11号 北青山シティ976\n",
      "12-1843-8120\n",
      "mikakotanaka@example.org\n",
      "646-80-1605\n",
      "長野県西多摩郡日の出町西小来川39丁目19番15号\n",
      "070-8116-8309\n",
      "itanaka@example.com\n",
      "622-94-2908\n",
      "香川県安房郡鋸南町芝公園11丁目11番10号 勝どきパレス961\n",
      "070-5619-5212\n",
      "psasaki@example.org\n",
      "107-21-6120\n",
      "秋田県稲城市橋場41丁目26番19号 丸の内ＪＰタワーパーク468\n",
      "090-7572-8574\n",
      "miki14@example.org\n",
      "490-57-4721\n",
      "東京都国分寺市芝公園20丁目3番2号\n",
      "080-7363-0106\n",
      "saitonanami@example.com\n",
      "028-36-6764\n",
      "大分県武蔵野市二つ室40丁目11番18号\n",
      "080-7467-8838\n",
      "gmaeda@example.org\n",
      "629-47-7530\n",
      "長野県鎌ケ谷市東和町14丁目11番5号 睦ハイツ236\n",
      "080-3402-4202\n",
      "kazuyayamashita@example.org\n",
      "665-60-5143\n",
      "徳島県横浜市都筑区大京町3丁目1番1号 鳥越パレス131\n"
     ]
    }
   ],
   "source": [
    "from faker import Faker\n",
    "fake = Faker(locale=\"jp_JP\")\n",
    "\n",
    "for _ in range(10):\n",
    "    print(fake.phone_number())\n",
    "    print(fake.email())\n",
    "    print(fake.ssn())\n",
    "    print(fake.address())"
   ]
  },
  {
   "cell_type": "code",
   "execution_count": 79,
   "id": "89250f9e-769a-4f74-8911-fe2165761746",
   "metadata": {},
   "outputs": [
    {
     "data": {
      "text/plain": [
       "3.0"
      ]
     },
     "execution_count": 79,
     "metadata": {},
     "output_type": "execute_result"
    }
   ],
   "source": [
    "import numpy as np\n",
    "\n",
    "data1 = np.array([1, 2, 3, 4, 5]*10000)\n",
    "\n",
    "np.median(data1)"
   ]
  },
  {
   "cell_type": "code",
   "execution_count": null,
   "id": "be694812-b119-47b6-9ec7-6c4213ee9e09",
   "metadata": {},
   "outputs": [],
   "source": [
    "films = {}\n",
    "\n",
    "films {\n",
    "    \"Matrix\": 3000000,\n",
    "    \"Dune\": 1000000,\n",
    "    \"LOTR\": 2500000\n",
    "}\n",
    "\n",
    "films[\"Amélie Poulain\"] = 789798"
   ]
  },
  {
   "cell_type": "code",
   "execution_count": 76,
   "id": "e38da369-a105-400c-9446-76eb3ed49ccd",
   "metadata": {},
   "outputs": [
    {
     "data": {
      "text/plain": [
       "array([4, 5])"
      ]
     },
     "execution_count": 76,
     "metadata": {},
     "output_type": "execute_result"
    }
   ],
   "source": [
    "data1 = np.array([1, 2, 3, 4])\n",
    "\n",
    "data1[data1 > np.mean(data1)] + 1\n",
    "\n",
    "\n"
   ]
  },
  {
   "cell_type": "code",
   "execution_count": 78,
   "id": "bdafbe10-a00b-4d4c-81ae-425617f9257e",
   "metadata": {},
   "outputs": [
    {
     "data": {
      "text/plain": [
       "[4, 5]"
      ]
     },
     "execution_count": 78,
     "metadata": {},
     "output_type": "execute_result"
    }
   ],
   "source": [
    "import statistics\n",
    "data2 = [1, 2, 3, 4]\n",
    "moyenne = statistics.mean(data2)\n",
    "[d + 1 for d in data2 if d > moyenne]"
   ]
  },
  {
   "cell_type": "code",
   "execution_count": 63,
   "id": "31ffc0a6-80f2-4e36-8b01-bbe2682c047b",
   "metadata": {},
   "outputs": [
    {
     "data": {
      "text/plain": [
       "[3, 4]"
      ]
     },
     "execution_count": 63,
     "metadata": {},
     "output_type": "execute_result"
    }
   ],
   "source": [
    "data2 = [1, 2, 3, 4]\n",
    "[d for d in data2 if d > 2]"
   ]
  },
  {
   "cell_type": "code",
   "execution_count": 93,
   "id": "b1238949-598c-4425-9ae4-a61999818700",
   "metadata": {},
   "outputs": [
    {
     "data": {
      "text/plain": [
       "airport_name\n",
       "DALLAS/FORT WORTH INTL ARPT    803\n",
       "SACRAMENTO INTL                676\n",
       "SALT LAKE CITY INTL            479\n",
       "Name: count, dtype: int64"
      ]
     },
     "execution_count": 93,
     "metadata": {},
     "output_type": "execute_result"
    }
   ],
   "source": [
    "import pandas as pd\n",
    "\n",
    "df = pd.read_csv('bird_strikes.csv')\n",
    "\n",
    "df.value_counts('airport_name')[:3]\n"
   ]
  },
  {
   "cell_type": "code",
   "execution_count": 101,
   "id": "a2140074-d5ef-4a9b-ace6-40713a07f8d9",
   "metadata": {},
   "outputs": [
    {
     "data": {
      "text/plain": [
       "'HIT 2 DEER AND RAN OFF RWY. THRUST REVERSERS WERE NOT WORKING. PLANE WENT INTO A DITCH, BURST INTO FLAMES AND WAS DESTROYED. PILOT AND PAX WERE CRITICALLY INJURED: 2 BREAKS OF THE PELVIC BONE, 4 FRACTURED VERTEBRAE, CRUSHED RIGHT HIP, RT LEG PULLED FROM S'"
      ]
     },
     "execution_count": 101,
     "metadata": {},
     "output_type": "execute_result"
    }
   ],
   "source": [
    "df[df[\"cost_total\"] == df[\"cost_total\"].max()]['remarks'].iloc[0]"
   ]
  },
  {
   "cell_type": "code",
   "execution_count": 107,
   "id": "b48b724d-61a6-47cb-b17e-d8acb7337e0a",
   "metadata": {},
   "outputs": [
    {
     "data": {
      "text/plain": [
       "0                           laguardia ny\n",
       "1            dallas/fort worth intl arpt\n",
       "2                      lakefront airport\n",
       "3                    seattle-tacoma intl\n",
       "4                           norfolk intl\n",
       "                      ...               \n",
       "25553                  redding municipal\n",
       "25554                       orlando intl\n",
       "25555                                NaN\n",
       "25556    detroit metro wayne county arpt\n",
       "25557       abraham lincoln capital arpt\n",
       "Name: airport_name, Length: 25558, dtype: object"
      ]
     },
     "execution_count": 107,
     "metadata": {},
     "output_type": "execute_result"
    }
   ],
   "source": [
    "df['airport_name'].str.lower()"
   ]
  },
  {
   "cell_type": "code",
   "execution_count": 109,
   "id": "c87e6ef7-2fa2-4ddf-8174-3b0c907fa0f2",
   "metadata": {},
   "outputs": [],
   "source": [
    "\n",
    "import sqlalchemy\n",
    "engine = sqlalchemy.create_engine(\"sqlite:///./products.db\")\n",
    "\n",
    "products = pd.read_sql_table(\"products\", engine)"
   ]
  },
  {
   "cell_type": "code",
   "execution_count": 114,
   "id": "e786a448-9bc4-4617-bcf1-bc73b9850288",
   "metadata": {},
   "outputs": [
    {
     "data": {
      "text/plain": [
       "2.325"
      ]
     },
     "execution_count": 114,
     "metadata": {},
     "output_type": "execute_result"
    }
   ],
   "source": [
    "products[products[\"price\"] > 1.5]['price'].mean()"
   ]
  },
  {
   "cell_type": "code",
   "execution_count": 117,
   "id": "97fd8758-e89c-4c66-a19d-00a2ad212079",
   "metadata": {},
   "outputs": [
    {
     "data": {
      "text/html": [
       "<div>\n",
       "<style scoped>\n",
       "    .dataframe tbody tr th:only-of-type {\n",
       "        vertical-align: middle;\n",
       "    }\n",
       "\n",
       "    .dataframe tbody tr th {\n",
       "        vertical-align: top;\n",
       "    }\n",
       "\n",
       "    .dataframe thead th {\n",
       "        text-align: right;\n",
       "    }\n",
       "</style>\n",
       "<table border=\"1\" class=\"dataframe\">\n",
       "  <thead>\n",
       "    <tr style=\"text-align: right;\">\n",
       "      <th></th>\n",
       "      <th>id</th>\n",
       "      <th>price</th>\n",
       "    </tr>\n",
       "  </thead>\n",
       "  <tbody>\n",
       "    <tr>\n",
       "      <th>count</th>\n",
       "      <td>10.00000</td>\n",
       "      <td>10.000000</td>\n",
       "    </tr>\n",
       "    <tr>\n",
       "      <th>mean</th>\n",
       "      <td>5.50000</td>\n",
       "      <td>1.500000</td>\n",
       "    </tr>\n",
       "    <tr>\n",
       "      <th>std</th>\n",
       "      <td>3.02765</td>\n",
       "      <td>0.820569</td>\n",
       "    </tr>\n",
       "    <tr>\n",
       "      <th>min</th>\n",
       "      <td>1.00000</td>\n",
       "      <td>0.500000</td>\n",
       "    </tr>\n",
       "    <tr>\n",
       "      <th>25%</th>\n",
       "      <td>3.25000</td>\n",
       "      <td>0.850000</td>\n",
       "    </tr>\n",
       "    <tr>\n",
       "      <th>50%</th>\n",
       "      <td>5.50000</td>\n",
       "      <td>1.350000</td>\n",
       "    </tr>\n",
       "    <tr>\n",
       "      <th>75%</th>\n",
       "      <td>7.75000</td>\n",
       "      <td>1.950000</td>\n",
       "    </tr>\n",
       "    <tr>\n",
       "      <th>max</th>\n",
       "      <td>10.00000</td>\n",
       "      <td>3.000000</td>\n",
       "    </tr>\n",
       "  </tbody>\n",
       "</table>\n",
       "</div>"
      ],
      "text/plain": [
       "             id      price\n",
       "count  10.00000  10.000000\n",
       "mean    5.50000   1.500000\n",
       "std     3.02765   0.820569\n",
       "min     1.00000   0.500000\n",
       "25%     3.25000   0.850000\n",
       "50%     5.50000   1.350000\n",
       "75%     7.75000   1.950000\n",
       "max    10.00000   3.000000"
      ]
     },
     "execution_count": 117,
     "metadata": {},
     "output_type": "execute_result"
    }
   ],
   "source": [
    "products.describe()"
   ]
  },
  {
   "cell_type": "code",
   "execution_count": 122,
   "id": "8c60fa82-caac-4b19-9609-b7fe29c45f56",
   "metadata": {},
   "outputs": [
    {
     "data": {
      "text/html": [
       "<div>\n",
       "<style scoped>\n",
       "    .dataframe tbody tr th:only-of-type {\n",
       "        vertical-align: middle;\n",
       "    }\n",
       "\n",
       "    .dataframe tbody tr th {\n",
       "        vertical-align: top;\n",
       "    }\n",
       "\n",
       "    .dataframe thead th {\n",
       "        text-align: right;\n",
       "    }\n",
       "</style>\n",
       "<table border=\"1\" class=\"dataframe\">\n",
       "  <thead>\n",
       "    <tr style=\"text-align: right;\">\n",
       "      <th></th>\n",
       "      <th>id</th>\n",
       "      <th>name</th>\n",
       "      <th>price</th>\n",
       "    </tr>\n",
       "  </thead>\n",
       "  <tbody>\n",
       "    <tr>\n",
       "      <th>8</th>\n",
       "      <td>9</td>\n",
       "      <td>Strawberry</td>\n",
       "      <td>3.0</td>\n",
       "    </tr>\n",
       "    <tr>\n",
       "      <th>9</th>\n",
       "      <td>10</td>\n",
       "      <td>Blueberry</td>\n",
       "      <td>2.5</td>\n",
       "    </tr>\n",
       "    <tr>\n",
       "      <th>3</th>\n",
       "      <td>4</td>\n",
       "      <td>Tomato</td>\n",
       "      <td>2.0</td>\n",
       "    </tr>\n",
       "    <tr>\n",
       "      <th>7</th>\n",
       "      <td>8</td>\n",
       "      <td>Broccoli</td>\n",
       "      <td>1.8</td>\n",
       "    </tr>\n",
       "    <tr>\n",
       "      <th>2</th>\n",
       "      <td>3</td>\n",
       "      <td>Orange</td>\n",
       "      <td>1.5</td>\n",
       "    </tr>\n",
       "    <tr>\n",
       "      <th>0</th>\n",
       "      <td>1</td>\n",
       "      <td>Apple</td>\n",
       "      <td>1.2</td>\n",
       "    </tr>\n",
       "    <tr>\n",
       "      <th>6</th>\n",
       "      <td>7</td>\n",
       "      <td>Lettuce</td>\n",
       "      <td>1.0</td>\n",
       "    </tr>\n",
       "    <tr>\n",
       "      <th>1</th>\n",
       "      <td>2</td>\n",
       "      <td>Banana</td>\n",
       "      <td>0.8</td>\n",
       "    </tr>\n",
       "    <tr>\n",
       "      <th>5</th>\n",
       "      <td>6</td>\n",
       "      <td>Carrot</td>\n",
       "      <td>0.7</td>\n",
       "    </tr>\n",
       "    <tr>\n",
       "      <th>4</th>\n",
       "      <td>5</td>\n",
       "      <td>Potato</td>\n",
       "      <td>0.5</td>\n",
       "    </tr>\n",
       "  </tbody>\n",
       "</table>\n",
       "</div>"
      ],
      "text/plain": [
       "   id        name  price\n",
       "8   9  Strawberry    3.0\n",
       "9  10   Blueberry    2.5\n",
       "3   4      Tomato    2.0\n",
       "7   8    Broccoli    1.8\n",
       "2   3      Orange    1.5\n",
       "0   1       Apple    1.2\n",
       "6   7     Lettuce    1.0\n",
       "1   2      Banana    0.8\n",
       "5   6      Carrot    0.7\n",
       "4   5      Potato    0.5"
      ]
     },
     "execution_count": 122,
     "metadata": {},
     "output_type": "execute_result"
    }
   ],
   "source": [
    "products.sort_values([\"price\", \"name\"], ascending=[False, True])"
   ]
  },
  {
   "cell_type": "code",
   "execution_count": 123,
   "id": "c590838d-7cb4-44e8-85b9-0be1e06bf906",
   "metadata": {},
   "outputs": [
    {
     "data": {
      "text/html": [
       "<div>\n",
       "<style scoped>\n",
       "    .dataframe tbody tr th:only-of-type {\n",
       "        vertical-align: middle;\n",
       "    }\n",
       "\n",
       "    .dataframe tbody tr th {\n",
       "        vertical-align: top;\n",
       "    }\n",
       "\n",
       "    .dataframe thead th {\n",
       "        text-align: right;\n",
       "    }\n",
       "</style>\n",
       "<table border=\"1\" class=\"dataframe\">\n",
       "  <thead>\n",
       "    <tr style=\"text-align: right;\">\n",
       "      <th></th>\n",
       "      <th>id</th>\n",
       "      <th>name</th>\n",
       "      <th>price</th>\n",
       "    </tr>\n",
       "  </thead>\n",
       "  <tbody>\n",
       "    <tr>\n",
       "      <th>0</th>\n",
       "      <td>1</td>\n",
       "      <td>Apple</td>\n",
       "      <td>1.2</td>\n",
       "    </tr>\n",
       "    <tr>\n",
       "      <th>1</th>\n",
       "      <td>2</td>\n",
       "      <td>Banana</td>\n",
       "      <td>0.8</td>\n",
       "    </tr>\n",
       "    <tr>\n",
       "      <th>2</th>\n",
       "      <td>3</td>\n",
       "      <td>Orange</td>\n",
       "      <td>1.5</td>\n",
       "    </tr>\n",
       "    <tr>\n",
       "      <th>3</th>\n",
       "      <td>4</td>\n",
       "      <td>Tomato</td>\n",
       "      <td>2.0</td>\n",
       "    </tr>\n",
       "    <tr>\n",
       "      <th>4</th>\n",
       "      <td>5</td>\n",
       "      <td>Potato</td>\n",
       "      <td>0.5</td>\n",
       "    </tr>\n",
       "    <tr>\n",
       "      <th>5</th>\n",
       "      <td>6</td>\n",
       "      <td>Carrot</td>\n",
       "      <td>0.7</td>\n",
       "    </tr>\n",
       "    <tr>\n",
       "      <th>6</th>\n",
       "      <td>7</td>\n",
       "      <td>Lettuce</td>\n",
       "      <td>1.0</td>\n",
       "    </tr>\n",
       "    <tr>\n",
       "      <th>7</th>\n",
       "      <td>8</td>\n",
       "      <td>Broccoli</td>\n",
       "      <td>1.8</td>\n",
       "    </tr>\n",
       "    <tr>\n",
       "      <th>8</th>\n",
       "      <td>9</td>\n",
       "      <td>Strawberry</td>\n",
       "      <td>3.0</td>\n",
       "    </tr>\n",
       "    <tr>\n",
       "      <th>9</th>\n",
       "      <td>10</td>\n",
       "      <td>Blueberry</td>\n",
       "      <td>2.5</td>\n",
       "    </tr>\n",
       "  </tbody>\n",
       "</table>\n",
       "</div>"
      ],
      "text/plain": [
       "   id        name  price\n",
       "0   1       Apple    1.2\n",
       "1   2      Banana    0.8\n",
       "2   3      Orange    1.5\n",
       "3   4      Tomato    2.0\n",
       "4   5      Potato    0.5\n",
       "5   6      Carrot    0.7\n",
       "6   7     Lettuce    1.0\n",
       "7   8    Broccoli    1.8\n",
       "8   9  Strawberry    3.0\n",
       "9  10   Blueberry    2.5"
      ]
     },
     "execution_count": 123,
     "metadata": {},
     "output_type": "execute_result"
    }
   ],
   "source": [
    "products\n",
    "df.to_sql('products_with_vat', engine)"
   ]
  },
  {
   "cell_type": "code",
   "execution_count": 126,
   "id": "117a73f6-e9e9-4aa3-a422-53c2d674791f",
   "metadata": {},
   "outputs": [],
   "source": [
    "%matplotlib inline"
   ]
  },
  {
   "cell_type": "code",
   "execution_count": 151,
   "id": "d6c102d9-ad35-45b9-8eb2-23d0f5a537cc",
   "metadata": {},
   "outputs": [
    {
     "data": {
      "text/plain": [
       "<Axes: xlabel='name'>"
      ]
     },
     "execution_count": 151,
     "metadata": {},
     "output_type": "execute_result"
    },
    {
     "data": {
      "image/png": "[encoded data removed]",
      "text/plain": [
       "<Figure size 640x480 with 1 Axes>"
      ]
     },
     "metadata": {},
     "output_type": "display_data"
    }
   ],
   "source": [
    "df_for_plot = products.reset_index().set_index('name')['price']\n",
    "\n",
    "df_for_plot.plot.bar()"
   ]
  },
  {
   "cell_type": "code",
   "execution_count": 147,
   "id": "2fd94833-32ea-4cf9-a4f3-6e3aececf025",
   "metadata": {},
   "outputs": [
    {
     "data": {
      "text/plain": [
       "<Axes: xlabel='name'>"
      ]
     },
     "execution_count": 147,
     "metadata": {},
     "output_type": "execute_result"
    },
    {
     "data": {
      "image/png": "[encoded data removed]",
      "text/plain": [
       "<Figure size 640x480 with 1 Axes>"
      ]
     },
     "metadata": {},
     "output_type": "display_data"
    }
   ],
   "source": [
    "df_for_plot.plot.line()"
   ]
  },
  {
   "cell_type": "code",
   "execution_count": 152,
   "id": "922fa1d2-5a39-4a36-ab79-43c514e3a23c",
   "metadata": {},
   "outputs": [
    {
     "data": {
      "text/plain": [
       "<Axes: ylabel='price'>"
      ]
     },
     "execution_count": 152,
     "metadata": {},
     "output_type": "execute_result"
    },
    {
     "data": {
      "image/png": "[encoded data removed]",
      "text/plain": [
       "<Figure size 640x480 with 1 Axes>"
      ]
     },
     "metadata": {},
     "output_type": "display_data"
    }
   ],
   "source": [
    "df_for_plot.plot.pie()"
   ]
  },
  {
   "cell_type": "code",
   "execution_count": 154,
   "id": "1299f93b-6ff9-4cfe-9193-01dff30d47d4",
   "metadata": {},
   "outputs": [
    {
     "data": {
      "text/plain": [
       "<Axes: >"
      ]
     },
     "execution_count": 154,
     "metadata": {},
     "output_type": "execute_result"
    },
    {
     "data": {
      "image/png": "[encoded data removed]",
      "text/plain": [
       "<Figure size 640x480 with 1 Axes>"
      ]
     },
     "metadata": {},
     "output_type": "display_data"
    }
   ],
   "source": [
    "df_for_plot.plot.box()"
   ]
  },
  {
   "cell_type": "code",
   "execution_count": 163,
   "id": "5ed4bbc2-3a7d-42e5-a11c-c4e001fded27",
   "metadata": {},
   "outputs": [
    {
     "data": {
      "text/plain": [
       "<Axes: xlabel='name', ylabel='price'>"
      ]
     },
     "execution_count": 163,
     "metadata": {},
     "output_type": "execute_result"
    },
    {
     "data": {
      "image/png": "[encoded data removed]",
      "text/plain": [
       "<Figure size 640x480 with 1 Axes>"
      ]
     },
     "metadata": {},
     "output_type": "display_data"
    }
   ],
   "source": [
    "products.plot(kind=\"scatter\", x=\"name\", y=\"price\", color=\"red\")\n"
   ]
  },
  {
   "cell_type": "code",
   "execution_count": 167,
   "id": "925c4480-5a3c-4221-9378-8c94bcda55b8",
   "metadata": {},
   "outputs": [
    {
     "data": {
      "text/plain": [
       "<module 'matplotlib.pyplot' from 'C:\\\\Users\\\\user\\\\Desktop\\\\formation_python_plb_juin_2024\\\\.venv\\\\Lib\\\\site-packages\\\\matplotlib\\\\pyplot.py'>"
      ]
     },
     "execution_count": 167,
     "metadata": {},
     "output_type": "execute_result"
    },
    {
     "data": {
      "image/png": "[encoded data removed]",
      "text/plain": [
       "<Figure size 640x480 with 1 Axes>"
      ]
     },
     "metadata": {},
     "output_type": "display_data"
    }
   ],
   "source": [
    "import matplotlib.pyplot as plt\n",
    "import numpy as np\n",
    "\n",
    "import seaborn as sns\n",
    "\n",
    "sns.set()\n",
    "\n",
    "fig = plt.figure()\n",
    "ax = fig.add_subplot(1,1,1)\n",
    "\n",
    "x = [1, 2, 3, 4, 5]\n",
    "y = x\n",
    "z = np.sqrt(x)\n",
    "\n",
    "ax.plot(x, z, label=\"La réalité de la vie\")\n",
    "ax.plot(x, y, label=\"Bénéfices espérés\")\n",
    "\n",
    "ax.set_xlabel(\"Temps\")\n",
    "ax.set_xlabel(\"Valeurs\")\n",
    "\n",
    "ax.legend()\n",
    "\n",
    "ax.set_title(\"Le loupé de wall street\")\n",
    "\n",
    "plt"
   ]
  },
  {
   "cell_type": "code",
   "execution_count": 168,
   "id": "57cc7715-18a1-44b1-b48a-a65345fb06ff",
   "metadata": {},
   "outputs": [
    {
     "data": {
      "text/plain": [
       "<seaborn.axisgrid.PairGrid at 0x220b25ad050>"
      ]
     },
     "execution_count": 168,
     "metadata": {},
     "output_type": "execute_result"
    },
    {
     "data": {
      "image/png": "[encoded data removed]",
      "text/plain": [
       "<Figure size 500x500 with 6 Axes>"
      ]
     },
     "metadata": {},
     "output_type": "display_data"
    }
   ],
   "source": [
    "sns.pairplot(products)"
   ]
  }
 ],
 "metadata": {
  "kernelspec": {
   "display_name": "Python 3 (ipykernel)",
   "language": "python",
   "name": "python3"
  },
  "language_info": {
   "codemirror_mode": {
    "name": "ipython",
    "version": 3
   },
   "file_extension": ".py",
   "mimetype": "text/x-python",
   "name": "python",
   "nbconvert_exporter": "python",
   "pygments_lexer": "ipython3",
   "version": "3.11.9"
  }
 },
 "nbformat": 4,
 "nbformat_minor": 5
}
