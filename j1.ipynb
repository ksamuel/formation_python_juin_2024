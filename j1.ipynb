{
 "cells": [
  {
   "cell_type": "code",
   "execution_count": 111,
   "metadata": {},
   "outputs": [
    {
     "name": "stdout",
     "output_type": "stream",
     "text": [
      "True\n",
      "False\n",
      "<class 'dict'>\n",
      "dict_items([('banane', 0), ('pomme', 0), ('kiwi', 0), ('cerise', 11)])\n"
     ]
    }
   ],
   "source": [
    "fruits = {\n",
    "    \"banane\": 0,\n",
    "    \"pomme\": 0,\n",
    "    \"kiwi\": 0\n",
    "\n",
    "}\n",
    "fruits[\"banane\"] = 1\n",
    "fruits[\"cerise\"] = 10\n",
    "\n",
    "fruits[\"cerise\"] += 1\n",
    "fruits[\"banane\"] -= 1\n",
    "\n",
    "print(\"cerise\" in fruits)\n",
    "print(\"peche\" in fruits)\n",
    " \n",
    "\n",
    "print(type(fruits))\n",
    "print(fruits.items())"
   ]
  },
  {
   "cell_type": "code",
   "execution_count": 119,
   "metadata": {},
   "outputs": [
    {
     "name": "stdout",
     "output_type": "stream",
     "text": [
      "{'there': 9, 's': 13, 'a': 14, 'lady': 3, 'who': 5, 'sure': 2, 'all': 7, 'that': 2, 'glitters': 1, 'is': 4, 'gold': 2, 'and': 16, 'she': 8, 'buying': 3, 'stairway': 4, 'to': 13, 'heaven': 3, 'when': 3, 'gets': 1, 'knows': 1, 'if': 4, 'the': 17, 'stores': 1, 'are': 4, 'closed': 1, 'with': 2, 'word': 1, 'can': 3, 'get': 2, 'what': 1, 'came': 1, 'for': 4, 'ooh': 6, 'sign': 1, 'on': 4, 'wall': 1, 'but': 2, 'wants': 2, 'be': 3, 'cause': 1, 'you': 9, 'know': 4, 'sometimes': 2, 'words': 1, 'have': 2, 'two': 2, 'meanings': 1, 'in': 5, 'tree': 1, 'by': 2, 'brook': 1, 'songbird': 1, 'sings': 1, 'of': 3, 'our': 3, 'thoughts': 2, 'misgiven': 1, 'it': 6, 'makes': 5, 'me': 5, 'wonder': 5, 'feeling': 1, 'i': 3, 'look': 1, 'west': 1, 'my': 2, 'spirit': 1, 'crying': 1, 'leaving': 1, 'seen': 1, 'rings': 1, 'smoke': 1, 'through': 1, 'trees': 1, 'voices': 1, 'those': 2, 'stand': 2, 'looking': 1, 'really': 1, 'whispered': 1, 'soon': 1, 'we': 3, 'call': 1, 'tune': 2, 'then': 1, 'piper': 2, 'will': 4, 'lead': 1, 'us': 1, 'reason': 1, 'new': 1, 'day': 1, 'dawn': 1, 'long': 2, 'forests': 1, 'echo': 1, 'laughter': 1, 'oh': 4, 'whoa': 2, 'bustle': 1, 'your': 3, 'hedgerow': 1, 'don': 2, 't': 3, 'alarmed': 1, 'now': 1, 'just': 1, 'spring': 1, 'clean': 1, 'may': 1, 'queen': 1, 'yes': 1, 'paths': 1, 'go': 2, 'run': 1, 'still': 2, 'time': 1, 'change': 1, 'road': 2, 're': 1, 'ohh': 1, 'head': 1, 'humming': 1, 'won': 1, 'case': 1, 'calling': 1, 'join': 1, 'him': 1, 'dear': 1, 'hear': 1, 'wind': 3, 'blow': 1, 'did': 1, 'lies': 1, 'whispering': 1, 'as': 1, 'down': 1, 'shadows': 1, 'taller': 1, 'than': 1, 'soul': 1, 'walks': 1, 'shines': 1, 'white': 1, 'light': 1, 'show': 1, 'how': 1, 'everything': 1, 'turns': 1, 'listen': 1, 'very': 1, 'hard': 1, 'come': 1, 'at': 1, 'last': 1, 'one': 2, 'rock': 1, 'not': 1, 'roll': 1}\n"
     ]
    }
   ],
   "source": [
    "import string\n",
    "\n",
    "with open('song.txt', 'rt', encoding=\"utf8\") as f:\n",
    "    text = f.read().casefold()\n",
    "    for punc in string.punctuation:\n",
    "        text = text.replace(punc, ' ')\n",
    "    text = text.split()\n",
    "\n",
    "stats = {}\n",
    "\n",
    "for word in text:\n",
    "    if word in stats:\n",
    "        stats[word] += 1\n",
    "    else:\n",
    "        stats[word] = 1\n",
    "\n",
    "print(stats)"
   ]
  },
  {
   "cell_type": "code",
   "execution_count": 124,
   "metadata": {},
   "outputs": [
    {
     "name": "stdout",
     "output_type": "stream",
     "text": [
      "Counter({'the': 17, 'and': 16, 'a': 14, 's': 13, 'to': 13, 'there': 9, 'you': 9, 'she': 8, 'all': 7, 'ooh': 6, 'it': 6, 'who': 5, 'in': 5, 'makes': 5, 'me': 5, 'wonder': 5, 'is': 4, 'stairway': 4, 'if': 4, 'are': 4, 'for': 4, 'on': 4, 'know': 4, 'will': 4, 'oh': 4, 'lady': 3, 'buying': 3, 'heaven': 3, 'when': 3, 'can': 3, 'be': 3, 'of': 3, 'our': 3, 'i': 3, 'we': 3, 'your': 3, 't': 3, 'wind': 3, 'sure': 2, 'that': 2, 'gold': 2, 'with': 2, 'get': 2, 'but': 2, 'wants': 2, 'sometimes': 2, 'have': 2, 'two': 2, 'by': 2, 'thoughts': 2, 'my': 2, 'those': 2, 'stand': 2, 'tune': 2, 'piper': 2, 'long': 2, 'whoa': 2, 'don': 2, 'go': 2, 'still': 2, 'road': 2, 'one': 2, 'glitters': 1, 'gets': 1, 'knows': 1, 'stores': 1, 'closed': 1, 'word': 1, 'what': 1, 'came': 1, 'sign': 1, 'wall': 1, 'cause': 1, 'words': 1, 'meanings': 1, 'tree': 1, 'brook': 1, 'songbird': 1, 'sings': 1, 'misgiven': 1, 'feeling': 1, 'look': 1, 'west': 1, 'spirit': 1, 'crying': 1, 'leaving': 1, 'seen': 1, 'rings': 1, 'smoke': 1, 'through': 1, 'trees': 1, 'voices': 1, 'looking': 1, 'really': 1, 'whispered': 1, 'soon': 1, 'call': 1, 'then': 1, 'lead': 1, 'us': 1, 'reason': 1, 'new': 1, 'day': 1, 'dawn': 1, 'forests': 1, 'echo': 1, 'laughter': 1, 'bustle': 1, 'hedgerow': 1, 'alarmed': 1, 'now': 1, 'just': 1, 'spring': 1, 'clean': 1, 'may': 1, 'queen': 1, 'yes': 1, 'paths': 1, 'run': 1, 'time': 1, 'change': 1, 're': 1, 'ohh': 1, 'head': 1, 'humming': 1, 'won': 1, 'case': 1, 'calling': 1, 'join': 1, 'him': 1, 'dear': 1, 'hear': 1, 'blow': 1, 'did': 1, 'lies': 1, 'whispering': 1, 'as': 1, 'down': 1, 'shadows': 1, 'taller': 1, 'than': 1, 'soul': 1, 'walks': 1, 'shines': 1, 'white': 1, 'light': 1, 'show': 1, 'how': 1, 'everything': 1, 'turns': 1, 'listen': 1, 'very': 1, 'hard': 1, 'come': 1, 'at': 1, 'last': 1, 'rock': 1, 'not': 1, 'roll': 1})\n"
     ]
    }
   ],
   "source": [
    "import string\n",
    "from collections import Counter\n",
    "from pathlib import Path \n",
    "\n",
    "text = Path('song.txt').read_text().casefold()\n",
    "text = str.translate(text, str.maketrans(string.punctuation, ' ' * len(string.punctuation)))\n",
    "stats = Counter(text.split())\n",
    "\n",
    "print(stats)"
   ]
  },
  {
   "cell_type": "code",
   "execution_count": null,
   "metadata": {},
   "outputs": [],
   "source": []
  },
  {
   "cell_type": "code",
   "execution_count": null,
   "metadata": {},
   "outputs": [],
   "source": [
    "    \"banane\": 0,\n",
    "    \"pomme\": 0,\n",
    "    \"kiwi\": 0\n",
    "\n",
    "}\n",
    "fruits[\"banane\"] = 1\n",
    "fruits[\"cerise\"] = 10\n",
    "\n",
    "fruits[\"cerise\"] += 1\n",
    "fruits[\"banane\"] -= 1\n",
    "\n",
    "print(\"cerise\" in fruits)\n",
    "print(\"peche\" in fruits)\n",
    " \n",
    "\n",
    "print(type(fruits))\n",
    "print(fruits.items())"
   ]
  },
  {
   "cell_type": "code",
   "execution_count": 55,
   "metadata": {},
   "outputs": [
    {
     "name": "stdout",
     "output_type": "stream",
     "text": [
      "Le PAIN est 1.50€\n",
      "Nous sommes le 10/06/2024\n"
     ]
    }
   ],
   "source": [
    "produit = \"pain\"\n",
    "prix = 1.50\n",
    "\n",
    "print(f\"Le {produit.upper()} est {prix:.2f}€\") # f-strings\n",
    "\n",
    "import datetime \n",
    "\n",
    "now = datetime.datetime.now()\n",
    "\n",
    "print(f\"Nous sommes le {now:%d/%m/%Y}\")"
   ]
  },
  {
   "cell_type": "code",
   "execution_count": 61,
   "metadata": {},
   "outputs": [
    {
     "name": "stdout",
     "output_type": "stream",
     "text": [
      "Ce message est super long, c'est une phrase qui n'a pas de saut de ligne mais que vous voulez diviser.\n"
     ]
    }
   ],
   "source": [
    "msg = (\"Ce message est super long, c'est une phrase \"\n",
    "       \"qui n'a pas de saut de ligne mais que vous voulez diviser.\")\n",
    "print(msg)"
   ]
  },
  {
   "cell_type": "code",
   "execution_count": 49,
   "metadata": {},
   "outputs": [
    {
     "name": "stdout",
     "output_type": "stream",
     "text": [
      "banane 0\n",
      "pomme 0\n",
      "kiwi 0\n",
      "cerise 11\n"
     ]
    }
   ],
   "source": [
    "for fruit, score in fruits.items():\n",
    "    print(fruit, score)"
   ]
  },
  {
   "cell_type": "code",
   "execution_count": 38,
   "metadata": {},
   "outputs": [
    {
     "name": "stdout",
     "output_type": "stream",
     "text": [
      "bleu\n",
      "rouge\n",
      "vert\n"
     ]
    }
   ],
   "source": [
    "couleurs = ['bleu', 'rouge', 'vert']\n",
    "\n",
    "print(couleurs[0])\n",
    "print(couleurs[1])\n",
    "print(couleurs[2])"
   ]
  },
  {
   "cell_type": "code",
   "execution_count": 42,
   "metadata": {},
   "outputs": [
    {
     "name": "stdout",
     "output_type": "stream",
     "text": [
      "bleu\n",
      "rouge\n",
      "vert\n"
     ]
    }
   ],
   "source": [
    "coul1, coul2, coul3 = ['bleu', 'rouge', 'vert'] # unpacking\n",
    "\n",
    "print(coul1)\n",
    "print(coul2)\n",
    "print(coul3)"
   ]
  },
  {
   "cell_type": "code",
   "execution_count": 45,
   "metadata": {},
   "outputs": [
    {
     "name": "stdout",
     "output_type": "stream",
     "text": [
      "bleu 1\n",
      "rouge 2\n",
      "vert 3\n"
     ]
    }
   ],
   "source": [
    "couleur_et_nombre = [\n",
    "    (\"bleu\", 1),\n",
    "    ('rouge', 2),\n",
    "    ('vert', 3)\n",
    "]\n",
    "\n",
    "for coul, nb in couleur_et_nombre:\n",
    "    print( coul, nb)"
   ]
  },
  {
   "cell_type": "code",
   "execution_count": null,
   "metadata": {},
   "outputs": [],
   "source": []
  },
  {
   "cell_type": "code",
   "execution_count": 62,
   "metadata": {},
   "outputs": [
    {
     "name": "stdout",
     "output_type": "stream",
     "text": [
      "BANANE\n",
      "POMME\n",
      "KIWI\n",
      "CERISE\n"
     ]
    }
   ],
   "source": [
    "for fruit in fruits:\n",
    "    print(fruit.upper())\n",
    "\n",
    "\n",
    "\n",
    "# Poser la question \"quel est votre fruit préféré ?\" en boucle (avec while et input)\n",
    "# Stocker la réponse dans une liste\n",
    "# Reposer la question tant que personne n'a répondu stop\n",
    "# A la fin afficher tous les fruits préférés avec une boucle for"
   ]
  },
  {
   "cell_type": "code",
   "execution_count": 103,
   "metadata": {},
   "outputs": [
    {
     "name": "stdout",
     "output_type": "stream",
     "text": [
      "totototototototototototototototototototototototototototototo\n",
      "totototototototototototototototototototototototototototototo\n"
     ]
    }
   ],
   "source": [
    "with open('fruits.txt', 'tr', encoding=\"utf8\") as fichier:\n",
    "    for ligne in fichier:\n",
    "        print(ligne)\n",
    "    fichier.seek(0)\n",
    "    for ligne in fichier:\n",
    "        print(ligne)\n",
    "\n",
    "    # fichier.read()\n",
    "\n",
    "\n",
    "with open('fruits.txt', 'a', encoding=\"utf8\") as fichier:\n",
    "    fichier.write('toto')\n",
    "\n"
   ]
  },
  {
   "cell_type": "code",
   "execution_count": 109,
   "metadata": {},
   "outputs": [
    {
     "name": "stdout",
     "output_type": "stream",
     "text": [
      "kevan\n"
     ]
    }
   ],
   "source": [
    "nom = \"kevin\"\n",
    "nom = nom.replace('i', 'a')\n",
    "print(nom)"
   ]
  },
  {
   "cell_type": "code",
   "execution_count": 110,
   "metadata": {},
   "outputs": [
    {
     "data": {
      "text/plain": [
       "['Une',\n",
       " 'petite',\n",
       " 'puce',\n",
       " 'pique',\n",
       " 'plus',\n",
       " \"qu'une\",\n",
       " 'grosse',\n",
       " 'puce',\n",
       " 'ne',\n",
       " 'pique']"
      ]
     },
     "execution_count": 110,
     "metadata": {},
     "output_type": "execute_result"
    }
   ],
   "source": [
    "\"Une petite puce pique plus qu'une grosse puce ne pique\".split()\n",
    "\n",
    "# Ouvrir le fichier qui contient les paroles de la chanson\n",
    "# Retirer la ponctuations\n",
    "# Tout mettre en minuscule\n",
    "# Compter combien de fois chaque mot est utilisé\n",
    "# for, replace, split, string, dict"
   ]
  },
  {
   "cell_type": "code",
   "execution_count": 81,
   "metadata": {},
   "outputs": [
    {
     "name": "stdout",
     "output_type": "stream",
     "text": [
      "646\n",
      "ansi_x3.4_1968\n",
      "ansi_x3_4_1968\n",
      "ansi_x3.4_1986\n",
      "cp367\n",
      "csascii\n",
      "ibm367\n",
      "iso646_us\n",
      "iso_646.irv_1991\n",
      "iso_ir_6\n",
      "us\n",
      "us_ascii\n",
      "base64\n",
      "base_64\n",
      "big5_tw\n",
      "csbig5\n",
      "big5_hkscs\n",
      "hkscs\n",
      "bz2\n",
      "037\n",
      "csibm037\n",
      "ebcdic_cp_ca\n",
      "ebcdic_cp_nl\n",
      "ebcdic_cp_us\n",
      "ebcdic_cp_wt\n",
      "ibm037\n",
      "ibm039\n",
      "1026\n",
      "csibm1026\n",
      "ibm1026\n",
      "1125\n",
      "ibm1125\n",
      "cp866u\n",
      "ruscii\n",
      "1140\n",
      "ibm1140\n",
      "1250\n",
      "windows_1250\n",
      "1251\n",
      "windows_1251\n",
      "1252\n",
      "windows_1252\n",
      "1253\n",
      "windows_1253\n",
      "1254\n",
      "windows_1254\n",
      "1255\n",
      "windows_1255\n",
      "1256\n",
      "windows_1256\n",
      "1257\n",
      "windows_1257\n",
      "1258\n",
      "windows_1258\n",
      "273\n",
      "ibm273\n",
      "csibm273\n",
      "424\n",
      "csibm424\n",
      "ebcdic_cp_he\n",
      "ibm424\n",
      "437\n",
      "cspc8codepage437\n",
      "ibm437\n",
      "500\n",
      "csibm500\n",
      "ebcdic_cp_be\n",
      "ebcdic_cp_ch\n",
      "ibm500\n",
      "775\n",
      "cspc775baltic\n",
      "ibm775\n",
      "850\n",
      "cspc850multilingual\n",
      "ibm850\n",
      "852\n",
      "cspcp852\n",
      "ibm852\n",
      "855\n",
      "csibm855\n",
      "ibm855\n",
      "857\n",
      "csibm857\n",
      "ibm857\n",
      "858\n",
      "csibm858\n",
      "ibm858\n",
      "860\n",
      "csibm860\n",
      "ibm860\n",
      "861\n",
      "cp_is\n",
      "csibm861\n",
      "ibm861\n",
      "862\n",
      "cspc862latinhebrew\n",
      "ibm862\n",
      "863\n",
      "csibm863\n",
      "ibm863\n",
      "864\n",
      "csibm864\n",
      "ibm864\n",
      "865\n",
      "csibm865\n",
      "ibm865\n",
      "866\n",
      "csibm866\n",
      "ibm866\n",
      "869\n",
      "cp_gr\n",
      "csibm869\n",
      "ibm869\n",
      "932\n",
      "ms932\n",
      "mskanji\n",
      "ms_kanji\n",
      "949\n",
      "ms949\n",
      "uhc\n",
      "950\n",
      "ms950\n",
      "jisx0213\n",
      "eucjis2004\n",
      "euc_jis2004\n",
      "eucjisx0213\n",
      "eucjp\n",
      "ujis\n",
      "u_jis\n",
      "euckr\n",
      "korean\n",
      "ksc5601\n",
      "ks_c_5601\n",
      "ks_c_5601_1987\n",
      "ksx1001\n",
      "ks_x_1001\n",
      "gb18030_2000\n",
      "chinese\n",
      "csiso58gb231280\n",
      "euc_cn\n",
      "euccn\n",
      "eucgb2312_cn\n",
      "gb2312_1980\n",
      "gb2312_80\n",
      "iso_ir_58\n",
      "936\n",
      "cp936\n",
      "ms936\n",
      "hex\n",
      "roman8\n",
      "r8\n",
      "csHPRoman8\n",
      "cp1051\n",
      "ibm1051\n",
      "hzgb\n",
      "hz_gb\n",
      "hz_gb_2312\n",
      "csiso2022jp\n",
      "iso2022jp\n",
      "iso_2022_jp\n",
      "iso2022jp_1\n",
      "iso_2022_jp_1\n",
      "iso2022jp_2\n",
      "iso_2022_jp_2\n",
      "iso_2022_jp_2004\n",
      "iso2022jp_2004\n",
      "iso2022jp_3\n",
      "iso_2022_jp_3\n",
      "iso2022jp_ext\n",
      "iso_2022_jp_ext\n",
      "csiso2022kr\n",
      "iso2022kr\n",
      "iso_2022_kr\n",
      "csisolatin6\n",
      "iso_8859_10\n",
      "iso_8859_10_1992\n",
      "iso_ir_157\n",
      "l6\n",
      "latin6\n",
      "thai\n",
      "iso_8859_11\n",
      "iso_8859_11_2001\n",
      "iso_8859_13\n",
      "l7\n",
      "latin7\n",
      "iso_8859_14\n",
      "iso_8859_14_1998\n",
      "iso_celtic\n",
      "iso_ir_199\n",
      "l8\n",
      "latin8\n",
      "iso_8859_15\n",
      "l9\n",
      "latin9\n",
      "iso_8859_16\n",
      "iso_8859_16_2001\n",
      "iso_ir_226\n",
      "l10\n",
      "latin10\n",
      "csisolatin2\n",
      "iso_8859_2\n",
      "iso_8859_2_1987\n",
      "iso_ir_101\n",
      "l2\n",
      "latin2\n",
      "csisolatin3\n",
      "iso_8859_3\n",
      "iso_8859_3_1988\n",
      "iso_ir_109\n",
      "l3\n",
      "latin3\n",
      "csisolatin4\n",
      "iso_8859_4\n",
      "iso_8859_4_1988\n",
      "iso_ir_110\n",
      "l4\n",
      "latin4\n",
      "csisolatincyrillic\n",
      "cyrillic\n",
      "iso_8859_5\n",
      "iso_8859_5_1988\n",
      "iso_ir_144\n",
      "arabic\n",
      "asmo_708\n",
      "csisolatinarabic\n",
      "ecma_114\n",
      "iso_8859_6\n",
      "iso_8859_6_1987\n",
      "iso_ir_127\n",
      "csisolatingreek\n",
      "ecma_118\n",
      "elot_928\n",
      "greek\n",
      "greek8\n",
      "iso_8859_7\n",
      "iso_8859_7_1987\n",
      "iso_ir_126\n",
      "csisolatinhebrew\n",
      "hebrew\n",
      "iso_8859_8\n",
      "iso_8859_8_1988\n",
      "iso_ir_138\n",
      "csisolatin5\n",
      "iso_8859_9\n",
      "iso_8859_9_1989\n",
      "iso_ir_148\n",
      "l5\n",
      "latin5\n",
      "cp1361\n",
      "ms1361\n",
      "cskoi8r\n",
      "kz_1048\n",
      "rk1048\n",
      "strk1048_2002\n",
      "8859\n",
      "cp819\n",
      "csisolatin1\n",
      "ibm819\n",
      "iso8859\n",
      "iso8859_1\n",
      "iso_8859_1\n",
      "iso_8859_1_1987\n",
      "iso_ir_100\n",
      "l1\n",
      "latin\n",
      "latin1\n",
      "maccyrillic\n",
      "macgreek\n",
      "maciceland\n",
      "maccentraleurope\n",
      "mac_centeuro\n",
      "maclatin2\n",
      "macintosh\n",
      "macroman\n",
      "macturkish\n",
      "ansi\n",
      "dbcs\n",
      "csptcp154\n",
      "pt154\n",
      "cp154\n",
      "cyrillic_asian\n",
      "quopri\n",
      "quoted_printable\n",
      "quotedprintable\n",
      "rot13\n",
      "csshiftjis\n",
      "shiftjis\n",
      "sjis\n",
      "s_jis\n",
      "shiftjis2004\n",
      "sjis_2004\n",
      "s_jis_2004\n",
      "shiftjisx0213\n",
      "sjisx0213\n",
      "s_jisx0213\n",
      "tis620\n",
      "tis_620_0\n",
      "tis_620_2529_0\n",
      "tis_620_2529_1\n",
      "iso_ir_166\n",
      "u16\n",
      "utf16\n",
      "unicodebigunmarked\n",
      "utf_16be\n",
      "unicodelittleunmarked\n",
      "utf_16le\n",
      "u32\n",
      "utf32\n",
      "utf_32be\n",
      "utf_32le\n",
      "u7\n",
      "utf7\n",
      "unicode_1_1_utf_7\n",
      "u8\n",
      "utf\n",
      "utf8\n",
      "utf8_ucs2\n",
      "utf8_ucs4\n",
      "cp65001\n",
      "uu\n",
      "zip\n",
      "zlib\n",
      "x_mac_japanese\n",
      "x_mac_korean\n",
      "x_mac_simp_chinese\n",
      "x_mac_trad_chinese\n"
     ]
    }
   ],
   "source": [
    "\n",
    "\n",
    "import encodings.aliases\n",
    "\n",
    "for enc in encodings.aliases.aliases:\n",
    "    print(enc)"
   ]
  },
  {
   "cell_type": "code",
   "execution_count": 138,
   "metadata": {},
   "outputs": [
    {
     "name": "stdout",
     "output_type": "stream",
     "text": [
      "3\n",
      "3\n",
      "3\n",
      "3 1 2\n"
     ]
    }
   ],
   "source": [
    "def add(a: int, b: int=2) -> int:\n",
    "    \"\"\"Add two numbers together\n",
    "    \n",
    "    Params:\n",
    "        a: first number\n",
    "        b: second number\n",
    "\n",
    "    Returns:\n",
    "        The result of the sum\n",
    "    \"\"\"\n",
    "\n",
    "    return a + b\n",
    "\n",
    "\n",
    "print(add(1, 2))\n",
    "print(add(1))\n",
    "print(add(b=2, a=1))\n",
    " \n",
    "\n",
    "def add_and_history(a, b=2):\n",
    "    return a + b, a, b\n",
    "\n",
    "total, first, second = add_and_history(1, 2)\n",
    "\n",
    "print(total, first, second)\n",
    " \n",
    "\n"
   ]
  },
  {
   "cell_type": "code",
   "execution_count": 139,
   "metadata": {},
   "outputs": [
    {
     "name": "stdout",
     "output_type": "stream",
     "text": [
      "Help on function add in module __main__:\n",
      "\n",
      "add(a: int, b: int = 2) -> int\n",
      "    Add two numbers together\n",
      "    \n",
      "    Params:\n",
      "        a: first number\n",
      "        b: second number\n",
      "    \n",
      "    Returns:\n",
      "        The result of the sum\n",
      "\n"
     ]
    }
   ],
   "source": [
    "help(add)"
   ]
  },
  {
   "cell_type": "code",
   "execution_count": null,
   "metadata": {},
   "outputs": [],
   "source": [
    "# Faire une fonction qui prend en paramètre une liste de mot et qui retourn un \n",
    "# dictionnaire qui contient les mots en clés et le nombre de fois ou les mots apparaissents\n",
    "\n",
    "def count_words(word_list: list[str]) -> dict[str, int]\n"
   ]
  },
  {
   "cell_type": "code",
   "execution_count": 150,
   "metadata": {},
   "outputs": [
    {
     "data": {
      "text/plain": [
       "datetime.date"
      ]
     },
     "execution_count": 150,
     "metadata": {},
     "output_type": "execute_result"
    }
   ],
   "source": [
    "import os\n",
    "import json \n",
    "\n",
    "import datetime as dt\n",
    "\n",
    "from module_de_kevin import function_de_kevin\n",
    "\n",
    " \n",
    "\n"
   ]
  },
  {
   "cell_type": "code",
   "execution_count": 158,
   "metadata": {},
   "outputs": [
    {
     "name": "stdout",
     "output_type": "stream",
     "text": [
      "c:\\Users\\user\\AppData\\Local\\Programs\\Python\\Python39\\python39.zip\n",
      "c:\\Users\\user\\AppData\\Local\\Programs\\Python\\Python39\\DLLs\n",
      "c:\\Users\\user\\AppData\\Local\\Programs\\Python\\Python39\\lib\n",
      "c:\\Users\\user\\AppData\\Local\\Programs\\Python\\Python39\n",
      "\n",
      "C:\\Users\\user\\AppData\\Roaming\\Python\\Python39\\site-packages\n",
      "C:\\Users\\user\\AppData\\Roaming\\Python\\Python39\\site-packages\\win32\n",
      "C:\\Users\\user\\AppData\\Roaming\\Python\\Python39\\site-packages\\win32\\lib\n",
      "C:\\Users\\user\\AppData\\Roaming\\Python\\Python39\\site-packages\\Pythonwin\n",
      "c:\\Users\\user\\AppData\\Local\\Programs\\Python\\Python39\\lib\\site-packages\n"
     ]
    }
   ],
   "source": [
    "import sys\n",
    "import json\n",
    "\n",
    "for path in sys.path:\n",
    "    print(path)"
   ]
  },
  {
   "cell_type": "code",
   "execution_count": 161,
   "metadata": {},
   "outputs": [
    {
     "name": "stdout",
     "output_type": "stream",
     "text": [
      "tata\n"
     ]
    }
   ],
   "source": [
    "import tata"
   ]
  }
 ],
 "metadata": {
  "kernelspec": {
   "display_name": "Python 3",
   "language": "python",
   "name": "python3"
  },
  "language_info": {
   "codemirror_mode": {
    "name": "ipython",
    "version": 3
   },
   "file_extension": ".py",
   "mimetype": "text/x-python",
   "name": "python",
   "nbconvert_exporter": "python",
   "pygments_lexer": "ipython3",
   "version": "3.9.11"
  }
 },
 "nbformat": 4,
 "nbformat_minor": 2
}
