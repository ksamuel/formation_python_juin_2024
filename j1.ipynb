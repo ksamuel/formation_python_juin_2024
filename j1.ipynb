{
 "cells": [
  {
   "cell_type": "markdown",
   "metadata": {},
   "source": [
    "# Installer Python\n",
    "\n",
    "- Toujours prendre python.org pour windows et mac (pas le windows store, homebrew, anaconda)\n",
    "- Utiliser les depots (http://localhost:8888/tree)\n",
    "- Utiliser les options par default\n",
    "\n",
    "# Utiliser sous windows la command py\n",
    "\n",
    "- py --list: lister les versions de python installées\n",
    "- py --list-paths: ou sont installés les python\n",
    "- py -X.Y: lancer un python en particuler\n",
    "\n",
    "# Utiliser un environement virtuel\n",
    "\n",
    "- on le créé avec \"py -X.Y -m venv .venv\"\n",
    "- on l'active: \".venv\\Scripts\\activate\" sous windows, sous mac et linux \"source .venv/bin/activate\"\n",
    "\n",
    "# Installer des bilbiothèques\n",
    "\n",
    "- Toujours dans un venv\n",
    "- pip install <nom du package>\n",
    "- Sauvegarder la liste des packages: pip freeze > requirements.txt\n",
    "- Reinstaller un environnement virtuel: pip install -r requirements.txt"
   ]
  },
  {
   "cell_type": "markdown",
   "metadata": {},
   "source": [
    "# Les listes"
   ]
  },
  {
   "cell_type": "code",
   "execution_count": 41,
   "metadata": {},
   "outputs": [
    {
     "name": "stdout",
     "output_type": "stream",
     "text": [
      "bananas\n",
      "['kiwis', 'pommes']\n",
      "['cranberries', 'strawberries', 'bananas', 'pommes', 'coconuts', 'watermelons', 'lemons', 'pears']\n",
      "False\n",
      "strawberries\n",
      "bananas\n",
      "pommes\n",
      "coconuts\n",
      "watermelons\n",
      "lemons\n",
      "pears\n",
      "oranges\n",
      "litchees\n"
     ]
    }
   ],
   "source": [
    "fruits = [\"kiwis\", \"bananas\", \"pommes\", \"coconuts\", \"watermelons\", \"lemons\"]\n",
    "fruits.append(\"pears\")\n",
    "fruits.insert(0, \"cherries\")\n",
    "print(fruits[2])\n",
    "print(fruits[1:4:2])\n",
    "fruits[0:2] = [\"cranberries\", \"strawberries\"]\n",
    "print(fruits)\n",
    "fruits.pop(0)\n",
    "fruits.extend([\"oranges\", \"litchees\"])\n",
    "print(\"kiwis\" in fruits)\n",
    "for f in fruits:\n",
    "    print(f)"
   ]
  },
  {
   "cell_type": "markdown",
   "metadata": {},
   "source": [
    "# Tuples"
   ]
  },
  {
   "cell_type": "code",
   "execution_count": 21,
   "metadata": {},
   "outputs": [
    {
     "name": "stdout",
     "output_type": "stream",
     "text": [
      "pommes\n",
      "('bananas', 'coconuts')\n",
      "('kiwis', 'bananas', 'pommes', 'coconuts', 'watermelons', 'lemons')\n",
      "True\n",
      "kiwis\n",
      "bananas\n",
      "pommes\n",
      "coconuts\n",
      "watermelons\n",
      "lemons\n"
     ]
    }
   ],
   "source": [
    "fruits = (\"kiwis\", \"bananas\", \"pommes\", \"coconuts\", \"watermelons\", \"lemons\")\n",
    "print(fruits[2])\n",
    "print(fruits[1:4:2])\n",
    "print(fruits)\n",
    "print(\"kiwis\" in fruits)\n",
    "for fruit in fruits:\n",
    "    print(fruit)"
   ]
  },
  {
   "cell_type": "markdown",
   "metadata": {},
   "source": [
    "# Sets"
   ]
  },
  {
   "cell_type": "code",
   "execution_count": 28,
   "metadata": {},
   "outputs": [
    {
     "name": "stdout",
     "output_type": "stream",
     "text": [
      "{'coconuts', 'pears', 'bananas', 'courgettes', 'lemons', 'kiwis', 'watermelons', 'tomates', 'pommes'}\n",
      "True\n",
      "coconuts\n",
      "pears\n",
      "bananas\n",
      "courgettes\n",
      "lemons\n",
      "kiwis\n",
      "watermelons\n",
      "tomates\n",
      "pommes\n",
      "{'courgettes', 'tomates'}\n"
     ]
    }
   ],
   "source": [
    "fruits = {\"kiwis\", \"bananas\", \"pommes\", \"coconuts\", \"watermelons\", \"lemons\", \"lemons\", \"lemons\", \"tomates\", \"courgettes\"}\n",
    "fruits.add(\"pears\")\n",
    "fruits.add(\"pears\")\n",
    "fruits.add(\"pears\")\n",
    "print(fruits)\n",
    "print(\"kiwis\" in fruits) # access en temps constant\n",
    "for fruit in fruits:\n",
    "    print(fruit)\n",
    "\n",
    "legumes = {\"tomates\", \"courgettes\", \"carottes\"}\n",
    "\n",
    "print(fruits & legumes)"
   ]
  },
  {
   "cell_type": "markdown",
   "metadata": {},
   "source": [
    "# Dictionaries"
   ]
  },
  {
   "cell_type": "code",
   "execution_count": 38,
   "metadata": {},
   "outputs": [
    {
     "name": "stdout",
     "output_type": "stream",
     "text": [
      "True\n",
      "banane 0\n",
      "pomme 0\n",
      "kiwi 0\n",
      "cerise 11\n",
      "dict_items([('banane', 0), ('pomme', 0), ('kiwi', 0), ('cerise', 11), ('mangoes', 80)])\n"
     ]
    }
   ],
   "source": [
    "fruits = {\n",
    "    \"banane\": 0,\n",
    "    \"pomme\": 0,\n",
    "    \"kiwi\": 0\n",
    "\n",
    "}\n",
    "fruits[\"banane\"] = 1\n",
    "fruits[\"cerise\"] = 10\n",
    "\n",
    "fruits[\"cerise\"] += 1\n",
    "fruits[\"banane\"] -= 1\n",
    "\n",
    "print(\"cerise\" in fruits)\n",
    "\n",
    "for fruit_name, fruit_score in fruits.items():\n",
    "    print(fruit_name, fruit_score)\n",
    "\n",
    "fruits.get('oranges', '?')\n",
    "\n",
    "fruits.setdefault('mangoes', 80)\n",
    "\n",
    "print(fruits)"
   ]
  },
  {
   "cell_type": "markdown",
   "metadata": {},
   "source": [
    "# Unpacking"
   ]
  },
  {
   "cell_type": "code",
   "execution_count": 51,
   "metadata": {},
   "outputs": [
    {
     "name": "stdout",
     "output_type": "stream",
     "text": [
      "blue\n",
      "yellow\n",
      "brown\n",
      "black\n",
      "blue\n",
      "yellow\n",
      "brown\n",
      "black\n",
      "pommes\n",
      "coconuts\n",
      "['watermelons', 'lemons', 'pears', 'oranges', 'litchees']\n",
      "{'coconuts', 'hello', 'strawberries', 'litchees', 'oranges', 'pears', 'yellow', 'bananas', 'lemons', 'blue', 'watermelons', 'brown', 'toto', 'black', 'pommes'}\n"
     ]
    }
   ],
   "source": [
    "colors = [\"blue\", \"yellow\", \"brown\", \"black\"]\n",
    "\n",
    "print(colors[0])\n",
    "print(colors[1])\n",
    "print(colors[2])\n",
    "print(colors[3])\n",
    "\n",
    "col1, col2, col3, col4 = (\"blue\", \"yellow\", \"brown\", \"black\")\n",
    "\n",
    "print(col1)\n",
    "print(col2)\n",
    "print(col3)\n",
    "print(col4)\n",
    "\n",
    "f1, f2, *rest = fruits[2:]\n",
    "\n",
    "print(f1)\n",
    "print(f2)\n",
    "print(rest)\n",
    "\n",
    "mix = {*colors, \"toto\", *fruits, \"hello\"}\n",
    "\n",
    "print(mix)\n"
   ]
  },
  {
   "cell_type": "markdown",
   "metadata": {},
   "source": [
    "# Fichiers"
   ]
  },
  {
   "cell_type": "code",
   "execution_count": 59,
   "metadata": {},
   "outputs": [
    {
     "name": "stdout",
     "output_type": "stream",
     "text": [
      "coucou\n",
      "coucou"
     ]
    }
   ],
   "source": [
    "with open('mon_fichier.txt', \"w\", encoding=\"utf8\") as f:\n",
    "    f.write('coucou\\n')\n",
    "    f.write('coucou')\n",
    "\n",
    "with open('mon_fichier.txt', \"r\", encoding=\"utf8\") as f:\n",
    "    # print(f.read())\n",
    "    # print(f.read(10)) # read 10 characteres\n",
    "    for line in f:\n",
    "        print(line, end=\"\")"
   ]
  },
  {
   "cell_type": "code",
   "execution_count": 65,
   "metadata": {},
   "outputs": [
    {
     "name": "stdout",
     "output_type": "stream",
     "text": [
      "{'Lock stock and two smockings': 9, 'The prestige': 9, 'Green book': 7, 'Rebel moon': 3}\n"
     ]
    }
   ],
   "source": [
    "movies = {}\n",
    "with open('movies.csv', encoding=\"utf8\") as f:\n",
    "    f.readline()\n",
    "    for line in f:\n",
    "        title, score = line.split(',')\n",
    "        movies[title.strip()] = int(score.strip())\n",
    "print(movies)"
   ]
  },
  {
   "cell_type": "code",
   "execution_count": 66,
   "metadata": {},
   "outputs": [
    {
     "name": "stdout",
     "output_type": "stream",
     "text": [
      "{'Films': 'Lock stock and two smockings', 'Score': '9'}\n",
      "{'Films': 'The prestige', 'Score': '9'}\n",
      "{'Films': 'Green book', 'Score': '7'}\n",
      "{'Films': 'Rebel moon', 'Score': '3'}\n"
     ]
    }
   ],
   "source": [
    "import csv\n",
    "with open('movies.csv', encoding=\"utf8\") as f:\n",
    "    rows = csv.DictReader(f)\n",
    "    for row in rows:\n",
    "        print(row)"
   ]
  },
  {
   "cell_type": "markdown",
   "metadata": {},
   "source": [
    "# Imports"
   ]
  },
  {
   "cell_type": "code",
   "execution_count": 71,
   "metadata": {},
   "outputs": [
    {
     "name": "stdout",
     "output_type": "stream",
     "text": [
      "C:\\Users\\user\\AppData\\Local\\Programs\\Python\\Python311\\python311.zip\n",
      "C:\\Users\\user\\AppData\\Local\\Programs\\Python\\Python311\\DLLs\n",
      "C:\\Users\\user\\AppData\\Local\\Programs\\Python\\Python311\\Lib\n",
      "C:\\Users\\user\\AppData\\Local\\Programs\\Python\\Python311\n",
      "C:\\Users\\user\\Desktop\\formation_python_plb_juin_2024\\.venv\n",
      "\n",
      "C:\\Users\\user\\Desktop\\formation_python_plb_juin_2024\\.venv\\Lib\\site-packages\n",
      "C:\\Users\\user\\Desktop\\formation_python_plb_juin_2024\\.venv\\Lib\\site-packages\\win32\n",
      "C:\\Users\\user\\Desktop\\formation_python_plb_juin_2024\\.venv\\Lib\\site-packages\\win32\\lib\n",
      "C:\\Users\\user\\Desktop\\formation_python_plb_juin_2024\\.venv\\Lib\\site-packages\\Pythonwin\n"
     ]
    }
   ],
   "source": [
    "import sys # Si le module est court\n",
    "from math import pi # si on est certain de pas avoir de conflit\n",
    "import datetime as dt # pour abréger ou éviter les conflits\n",
    "from datetime import * # pour se faire du mal\n",
    "\n",
    "# Tout ça est cherché sur le sys.path\n",
    "# Le dossier depuis lequel on lance python est ajouté au sys.path automatiquement\n",
    "# On peut ajouter aussi des chemins à PYTHONPATH pour les ajouter au sys.path manuellement\n",
    "# ou en faisant sys.path.append()\n",
    "for path in sys.path:\n",
    "    print(path)\n",
    "\n",
    "# le code peut être importé si le fichier est en .py ou dans un dossier qui contient __init__.py\n",
    "# On peut rendre un script importable sans effet de bord en utilisat cet idiome:\n",
    "if __name__ == \"__main__\":\n",
    "    ..."
   ]
  },
  {
   "cell_type": "markdown",
   "metadata": {},
   "source": [
    "# Fonctions"
   ]
  },
  {
   "cell_type": "code",
   "execution_count": 93,
   "metadata": {},
   "outputs": [
    {
     "name": "stdout",
     "output_type": "stream",
     "text": [
      "3\n",
      "3\n",
      "3\n",
      "3 1 2\n",
      "Unpacking in function calls\n",
      "3\n",
      "3\n",
      "Variadic parameters\n",
      "a=1\n",
      "b=2\n",
      "args=(3, 4, 5, 6)\n",
      "{'toto': 1}\n"
     ]
    },
    {
     "data": {
      "text/plain": [
       "720"
      ]
     },
     "execution_count": 93,
     "metadata": {},
     "output_type": "execute_result"
    }
   ],
   "source": [
    "def add(a: int, b: int=2) -> int:\n",
    "    \"\"\"Add two numbers together\n",
    "    \n",
    "    Params:\n",
    "        a: first number\n",
    "        b: second number\n",
    "\n",
    "    Returns:\n",
    "        The result of the sum\n",
    "    \"\"\"\n",
    "    return a + b\n",
    "\n",
    "\n",
    "print(add(1, 2))\n",
    "print(add(1))\n",
    "print(add(b=2, a=1))\n",
    " \n",
    "# Unpacking pour donner l'illusion de retourner plusieurs valeurs\n",
    "def add_and_history(a, b=2):\n",
    "    return a + b, a, b\n",
    "\n",
    "total, first, second = add_and_history(1, 2)\n",
    "\n",
    "print(total, first, second)\n",
    "\n",
    "print('Unpacking in function calls')\n",
    "point = [1, 2]\n",
    "print(add(*point)) # print(add(point[0], point[1]))\n",
    "point = {\"a\": 1, \"b\": 2}\n",
    "print(add(**point)) # print(add(a=point[\"a\"], b=point['b']))\n",
    "\n",
    "print('Variadic parameters')\n",
    "\n",
    "def multiply(a, b, *args, **kwargs):\n",
    "\n",
    "    print(f\"{a=}\")\n",
    "    print(f\"{b=}\")\n",
    "    print(f\"{args=}\")\n",
    "    print(f\"{kwargs}\")\n",
    "    \n",
    "    result = a * b\n",
    "    for p in args:\n",
    "        result *= p\n",
    "    return result \n",
    "\n",
    "multiply(1, 2, 3, 4, 5, 6, toto=1)"
   ]
  },
  {
   "cell_type": "markdown",
   "metadata": {},
   "source": [
    "# Exercice de la chanson"
   ]
  },
  {
   "cell_type": "code",
   "execution_count": 119,
   "metadata": {},
   "outputs": [
    {
     "name": "stdout",
     "output_type": "stream",
     "text": [
      "{'there': 9, 's': 13, 'a': 14, 'lady': 3, 'who': 5, 'sure': 2, 'all': 7, 'that': 2, 'glitters': 1, 'is': 4, 'gold': 2, 'and': 16, 'she': 8, 'buying': 3, 'stairway': 4, 'to': 13, 'heaven': 3, 'when': 3, 'gets': 1, 'knows': 1, 'if': 4, 'the': 17, 'stores': 1, 'are': 4, 'closed': 1, 'with': 2, 'word': 1, 'can': 3, 'get': 2, 'what': 1, 'came': 1, 'for': 4, 'ooh': 6, 'sign': 1, 'on': 4, 'wall': 1, 'but': 2, 'wants': 2, 'be': 3, 'cause': 1, 'you': 9, 'know': 4, 'sometimes': 2, 'words': 1, 'have': 2, 'two': 2, 'meanings': 1, 'in': 5, 'tree': 1, 'by': 2, 'brook': 1, 'songbird': 1, 'sings': 1, 'of': 3, 'our': 3, 'thoughts': 2, 'misgiven': 1, 'it': 6, 'makes': 5, 'me': 5, 'wonder': 5, 'feeling': 1, 'i': 3, 'look': 1, 'west': 1, 'my': 2, 'spirit': 1, 'crying': 1, 'leaving': 1, 'seen': 1, 'rings': 1, 'smoke': 1, 'through': 1, 'trees': 1, 'voices': 1, 'those': 2, 'stand': 2, 'looking': 1, 'really': 1, 'whispered': 1, 'soon': 1, 'we': 3, 'call': 1, 'tune': 2, 'then': 1, 'piper': 2, 'will': 4, 'lead': 1, 'us': 1, 'reason': 1, 'new': 1, 'day': 1, 'dawn': 1, 'long': 2, 'forests': 1, 'echo': 1, 'laughter': 1, 'oh': 4, 'whoa': 2, 'bustle': 1, 'your': 3, 'hedgerow': 1, 'don': 2, 't': 3, 'alarmed': 1, 'now': 1, 'just': 1, 'spring': 1, 'clean': 1, 'may': 1, 'queen': 1, 'yes': 1, 'paths': 1, 'go': 2, 'run': 1, 'still': 2, 'time': 1, 'change': 1, 'road': 2, 're': 1, 'ohh': 1, 'head': 1, 'humming': 1, 'won': 1, 'case': 1, 'calling': 1, 'join': 1, 'him': 1, 'dear': 1, 'hear': 1, 'wind': 3, 'blow': 1, 'did': 1, 'lies': 1, 'whispering': 1, 'as': 1, 'down': 1, 'shadows': 1, 'taller': 1, 'than': 1, 'soul': 1, 'walks': 1, 'shines': 1, 'white': 1, 'light': 1, 'show': 1, 'how': 1, 'everything': 1, 'turns': 1, 'listen': 1, 'very': 1, 'hard': 1, 'come': 1, 'at': 1, 'last': 1, 'one': 2, 'rock': 1, 'not': 1, 'roll': 1}\n"
     ]
    }
   ],
   "source": [
    "import string\n",
    "\n",
    "with open('song.txt', 'rt', encoding=\"utf8\") as f:\n",
    "    text = f.read().casefold()\n",
    "    for punc in string.punctuation:\n",
    "        text = text.replace(punc, ' ')\n",
    "    text = text.split()\n",
    "\n",
    "stats = {}\n",
    "\n",
    "for word in text:\n",
    "    if word in stats:\n",
    "        stats[word] += 1\n",
    "    else:\n",
    "        stats[word] = 1\n",
    "\n",
    "print(stats)"
   ]
  },
  {
   "cell_type": "code",
   "execution_count": 94,
   "metadata": {},
   "outputs": [
    {
     "name": "stdout",
     "output_type": "stream",
     "text": [
      "Counter({'the': 17, 'and': 16, 'a': 14, 's': 13, 'to': 13, 'there': 9, 'you': 9, 'she': 8, 'all': 7, 'ooh': 6, 'it': 6, 'who': 5, 'in': 5, 'makes': 5, 'me': 5, 'wonder': 5, 'is': 4, 'stairway': 4, 'if': 4, 'are': 4, 'for': 4, 'on': 4, 'know': 4, 'will': 4, 'oh': 4, 'lady': 3, 'buying': 3, 'heaven': 3, 'when': 3, 'can': 3, 'be': 3, 'of': 3, 'our': 3, 'i': 3, 'we': 3, 'your': 3, 't': 3, 'wind': 3, 'sure': 2, 'that': 2, 'gold': 2, 'with': 2, 'get': 2, 'but': 2, 'wants': 2, 'sometimes': 2, 'have': 2, 'two': 2, 'by': 2, 'thoughts': 2, 'my': 2, 'those': 2, 'stand': 2, 'tune': 2, 'piper': 2, 'long': 2, 'whoa': 2, 'don': 2, 'go': 2, 'still': 2, 'road': 2, 'one': 2, 'glitters': 1, 'gets': 1, 'knows': 1, 'stores': 1, 'closed': 1, 'word': 1, 'what': 1, 'came': 1, 'sign': 1, 'wall': 1, 'cause': 1, 'words': 1, 'meanings': 1, 'tree': 1, 'brook': 1, 'songbird': 1, 'sings': 1, 'misgiven': 1, 'feeling': 1, 'look': 1, 'west': 1, 'spirit': 1, 'crying': 1, 'leaving': 1, 'seen': 1, 'rings': 1, 'smoke': 1, 'through': 1, 'trees': 1, 'voices': 1, 'looking': 1, 'really': 1, 'whispered': 1, 'soon': 1, 'call': 1, 'then': 1, 'lead': 1, 'us': 1, 'reason': 1, 'new': 1, 'day': 1, 'dawn': 1, 'forests': 1, 'echo': 1, 'laughter': 1, 'bustle': 1, 'hedgerow': 1, 'alarmed': 1, 'now': 1, 'just': 1, 'spring': 1, 'clean': 1, 'may': 1, 'queen': 1, 'yes': 1, 'paths': 1, 'run': 1, 'time': 1, 'change': 1, 're': 1, 'ohh': 1, 'head': 1, 'humming': 1, 'won': 1, 'case': 1, 'calling': 1, 'join': 1, 'him': 1, 'dear': 1, 'hear': 1, 'blow': 1, 'did': 1, 'lies': 1, 'whispering': 1, 'as': 1, 'down': 1, 'shadows': 1, 'taller': 1, 'than': 1, 'soul': 1, 'walks': 1, 'shines': 1, 'white': 1, 'light': 1, 'show': 1, 'how': 1, 'everything': 1, 'turns': 1, 'listen': 1, 'very': 1, 'hard': 1, 'come': 1, 'at': 1, 'last': 1, 'rock': 1, 'not': 1, 'roll': 1})\n"
     ]
    }
   ],
   "source": [
    "import string\n",
    "from collections import Counter\n",
    "from pathlib import Path \n",
    "\n",
    "text = Path('song.txt').read_text().casefold()\n",
    "text = str.translate(text, str.maketrans(string.punctuation, ' ' * len(string.punctuation)))\n",
    "stats = Counter(text.split())\n",
    "\n",
    "print(stats)"
   ]
  },
  {
   "cell_type": "markdown",
   "metadata": {},
   "source": [
    "# Debug"
   ]
  },
  {
   "cell_type": "markdown",
   "metadata": {},
   "source": [
    "Poser un point d'arrêt avec:\n",
    "```python\n",
    "breakpoint() # import pdb; pdb.set_trace() sur anciennes versions\n",
    "```\n",
    "Utiliser help pour manipuler le debugger\n",
    "\n",
    "```python\n",
    "(pdb) help\n",
    "\n",
    "Documented commands (type help <topic>):\n",
    "========================================\n",
    "EOF    commands   enable      list      pinfo2   rv               unt   \n",
    "a      condition  exceptions  ll        pp       s                until \n",
    "alias  cont       exit        longlist  psource  skip_hidden      up    \n",
    "args   context    h           n         q        skip_predicates  w     \n",
    "b      continue   help        next      quit     source           whatis\n",
    "break  d          ignore      p         r        step             where \n",
    "bt     debug      interact    pdef      restart  tbreak         \n",
    "c      disable    j           pdoc      return   u              \n",
    "cl     display    jump        pfile     retval   unalias        \n",
    "clear  down       l           pinfo     run      undisplay      \n",
    "\n",
    "\n",
    "```\n",
    "\n",
    "- next: executer la prochaine ligne\n",
    "- list .: savoir où on est\n",
    "- up/down: monter ou descendre le long de la pile d'appel\n",
    "- continue (c): continuer l'execution du programme\n",
    "- quit (q): crasher le programme"
   ]
  },
  {
   "cell_type": "markdown",
   "metadata": {},
   "source": [
    "# Outils recommandés:\n",
    "\n",
    "- pendulum: pour les fuseaux en français\n",
    "- rull: pour le formatage de code\n",
    "- jupyter: pour avoir une outil d'exploration de code"
   ]
  }
 ],
 "metadata": {
  "kernelspec": {
   "display_name": "Python 3 (ipykernel)",
   "language": "python",
   "name": "python3"
  },
  "language_info": {
   "codemirror_mode": {
    "name": "ipython",
    "version": 3
   },
   "file_extension": ".py",
   "mimetype": "text/x-python",
   "name": "python",
   "nbconvert_exporter": "python",
   "pygments_lexer": "ipython3",
   "version": "3.11.9"
  }
 },
 "nbformat": 4,
 "nbformat_minor": 4
}
