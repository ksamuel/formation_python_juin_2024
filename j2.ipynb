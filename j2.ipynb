{
 "cells": [
  {
   "cell_type": "markdown",
   "id": "bb915b1d-1d6e-4e64-865a-bc1c2e6f0f77",
   "metadata": {},
   "source": [
    "# Trier les données"
   ]
  },
  {
   "cell_type": "code",
   "execution_count": 1,
   "id": "56b802c1-6f97-46c1-ab10-ae677b08bf4f",
   "metadata": {},
   "outputs": [
    {
     "name": "stdout",
     "output_type": "stream",
     "text": [
      "[1, 1, 4, 4, 6, 7, 8]\n"
     ]
    }
   ],
   "source": [
    "# Tri sur place, et sur les listes uniquements\n",
    "nombres = [4, 8, 1, 6, 4, 7, 1]\n",
    "nombres.sort()\n",
    "print(nombres)"
   ]
  },
  {
   "cell_type": "code",
   "execution_count": 5,
   "id": "d16ad983-20f3-4dd1-b374-0583cc9335c8",
   "metadata": {},
   "outputs": [
    {
     "name": "stdout",
     "output_type": "stream",
     "text": [
      "[1, 1, 4, 4, 6, 7, 8]\n"
     ]
    }
   ],
   "source": [
    "# Créer une copie triée, à partir de n'importe quel itérable\n",
    "nombres = {4, 8, 1, 6, 4, 7, 1}\n",
    "nombres = sorted(nombres)\n",
    "print(nombres)"
   ]
  },
  {
   "cell_type": "code",
   "execution_count": 6,
   "id": "3aaa02e0-8385-493e-a53a-ef40878e74ae",
   "metadata": {},
   "outputs": [
    {
     "name": "stdout",
     "output_type": "stream",
     "text": [
      "['d', 'd', 'f', 'f', 'g', 'h', 'j', 'k', 'k', 'l', 'l', 'm', 'q', 's', 's']\n"
     ]
    }
   ],
   "source": [
    "lettres = \"fkdhsgfljkdsqlm\"\n",
    "lettres = sorted(lettres)\n",
    "print(lettres)"
   ]
  },
  {
   "cell_type": "code",
   "execution_count": 7,
   "id": "bfdcefc0-d2bf-4268-afd8-241f41e41914",
   "metadata": {},
   "outputs": [
    {
     "name": "stdout",
     "output_type": "stream",
     "text": [
      "[8, 7, 6, 4, 4, 1, 1]\n"
     ]
    }
   ],
   "source": [
    "nombres = [4, 8, 1, 6, 4, 7, 1]\n",
    "nombres = sorted(nombres, reverse=True)\n",
    "print(nombres)"
   ]
  },
  {
   "cell_type": "code",
   "execution_count": 2,
   "id": "d031dcce-b33b-41fd-aaf0-42a6f4bccbb1",
   "metadata": {},
   "outputs": [
    {
     "data": {
      "text/plain": [
       "['apples', 'bananas', 'coconuts', 'kiwis', 'lemons', 'watermelons']"
      ]
     },
     "execution_count": 2,
     "metadata": {},
     "output_type": "execute_result"
    }
   ],
   "source": [
    "fruits = (\"kiwis\", \"bananas\", \"apples\", \"coconuts\", \"watermelons\", \"lemons\")\n",
    "sorted(fruits)"
   ]
  },
  {
   "cell_type": "code",
   "execution_count": 3,
   "id": "7f715814-27b7-497f-8801-fbce0fc1c6a4",
   "metadata": {},
   "outputs": [],
   "source": [
    "# trier avec un critère de tri personalisé\n",
    "def sur_quoi_trier(un_seul_fruit):\n",
    "    print('python appelle cette fonction dans sorted pour:', un_seul_fruit)\n",
    "    return len(un_seul_fruit)"
   ]
  },
  {
   "cell_type": "code",
   "execution_count": 4,
   "id": "e6d35ca6-56aa-4d6e-a037-5b68ea3ce7c2",
   "metadata": {
    "scrolled": true
   },
   "outputs": [
    {
     "name": "stdout",
     "output_type": "stream",
     "text": [
      "python appelle cette fonction dans sorted pour: kiwis\n",
      "python appelle cette fonction dans sorted pour: bananas\n",
      "python appelle cette fonction dans sorted pour: apples\n",
      "python appelle cette fonction dans sorted pour: coconuts\n",
      "python appelle cette fonction dans sorted pour: watermelons\n",
      "python appelle cette fonction dans sorted pour: lemons\n"
     ]
    },
    {
     "data": {
      "text/plain": [
       "['kiwis', 'apples', 'lemons', 'bananas', 'coconuts', 'watermelons']"
      ]
     },
     "execution_count": 4,
     "metadata": {},
     "output_type": "execute_result"
    }
   ],
   "source": [
    " sorted(fruits, key=sur_quoi_trier)  # on ne met pas de parentheses à sur_quoi_trier"
   ]
  },
  {
   "cell_type": "markdown",
   "id": "e3ba7e9a-db7a-43b4-a112-09768c275349",
   "metadata": {},
   "source": [
    "# Les fonctions anonymes (lambda)\n",
    "\n",
    "Etapes de transformation:\n",
    "\n",
    "```python\n",
    "def compter_le_nombre_de_e(element_a_trier):\n",
    "    return element_a_trier.count('e')\n",
    "```\n",
    "\n",
    "On met tout sur ligne:\n",
    "\n",
    "```python\n",
    "def compter_le_nombre_de_e(element_a_trier): return element_a_trier.count('e')\n",
    "```\n",
    "\n",
    "On retire le return:\n",
    "\n",
    "```python\n",
    "def compter_le_nombre_de_e(element_a_trier): element_a_trier.count('e')\n",
    "```\n",
    "\n",
    "On retire le nom:\n",
    "\n",
    "```python\n",
    "def (element_a_trier): element_a_trier.count('e')\n",
    "```\n",
    "\n",
    "On retire les parenthèses:\n",
    "\n",
    "```python\n",
    "def  element_a_trier: element_a_trier.count('e')\n",
    "```\n",
    "\n",
    "On renomme def en lambda:\n",
    "\n",
    "```python\n",
    "lambda element_a_trier : element_a_trier.count('e')\n",
    "```\n",
    "\n",
    "Optionellement, on peut racourcir le nom du paramètre:\n",
    "\n",
    "```python\n",
    "lambda e : e.count('e')\n",
    "```"
   ]
  },
  {
   "cell_type": "code",
   "execution_count": 7,
   "id": "9f1574e1-9b6a-422f-9d10-9bbb5471a3db",
   "metadata": {},
   "outputs": [
    {
     "data": {
      "text/plain": [
       "['kiwis', 'bananas', 'coconuts', 'apples', 'lemons', 'watermelons']"
      ]
     },
     "execution_count": 7,
     "metadata": {},
     "output_type": "execute_result"
    }
   ],
   "source": [
    "sorted(fruits, key=lambda e: e.count('e'))   "
   ]
  },
  {
   "cell_type": "markdown",
   "id": "9d22e440-1cd6-442b-a0ae-790eaf1b206e",
   "metadata": {},
   "source": [
    "# Les fonctions callbacks"
   ]
  },
  {
   "cell_type": "code",
   "execution_count": 12,
   "id": "3d32d4ab-e21a-4f7c-a9e8-43b3491dbe8a",
   "metadata": {},
   "outputs": [
    {
     "name": "stdout",
     "output_type": "stream",
     "text": [
      " - kiwis\n",
      " - bananas\n",
      " - apples\n",
      " - coconuts\n",
      " - watermelons\n",
      " - lemons\n",
      "* KIWIS\n",
      "* BANANAS\n",
      "* APPLES\n",
      "* COCONUTS\n",
      "* WATERMELONS\n",
      "* LEMONS\n",
      "///// kiwis\n",
      "///// bananas\n",
      "///// apples\n",
      "///// coconuts\n",
      "///// watermelons\n",
      "///// lemons\n"
     ]
    }
   ],
   "source": [
    "def format_list(liste, formatter=None):\n",
    "    for point in liste:\n",
    "        if formatter:\n",
    "            msg = formatter(point)\n",
    "        else:\n",
    "            msg = f\" - {point}\"\n",
    "        print(msg)\n",
    "\n",
    "def mon_formatter(point):\n",
    "    return f\"* {point.upper()}\"\n",
    "\n",
    "format_list(fruits)\n",
    "\n",
    "format_list(fruits, formatter=mon_formatter)\n",
    "\n",
    "format_list(fruits, formatter=lambda point: f\"///// {point}\")"
   ]
  },
  {
   "cell_type": "markdown",
   "id": "55954cb6-71ba-4058-aa01-d9f8dc52d360",
   "metadata": {},
   "source": [
    "# Exercice recapitulatif"
   ]
  },
  {
   "cell_type": "code",
   "execution_count": 15,
   "id": "3a3388db-63ae-46dc-8c98-e4e30b542196",
   "metadata": {},
   "outputs": [
    {
     "name": "stdout",
     "output_type": "stream",
     "text": [
      "DALLAS/FORT WORTH INTL ARPT (803)\n",
      "SACRAMENTO INTL (676)\n",
      "SALT LAKE CITY INTL (479)\n"
     ]
    }
   ],
   "source": [
    "import csv \n",
    "\n",
    "stats = {}\n",
    "# Acquerir les données\n",
    "with open('bird_strikes.csv', encoding=\"utf8\") as f:\n",
    "    rows = csv.DictReader(f)\n",
    "    for row in rows:\n",
    "        \n",
    "        # Traiter les données\n",
    "        name = row['airport_name']\n",
    "        if name not in stats:\n",
    "            stats[name] = 1\n",
    "        else:\n",
    "            stats[name] += 1\n",
    "\n",
    "ordered_airports = sorted(stats.items(), key=lambda airport: airport[1], reverse=True)\n",
    "\n",
    "# Afficher et formater les données\n",
    "for name, strikes in ordered_airports[:3]:\n",
    "    print(f\"{name} ({strikes})\")\n",
    "   "
   ]
  },
  {
   "cell_type": "code",
   "execution_count": null,
   "id": "28ffd5e9-8639-4d55-ab86-67957c68fbdd",
   "metadata": {},
   "outputs": [],
   "source": [
    "import csv \n",
    "\n",
    "stats = {}\n",
    "# Acquerir les données\n",
    "with open('bird_strikes.csv', encoding=\"utf8\") as f:\n",
    "    rows = csv.DictReader(f)\n",
    "    for row in rows:\n",
    "        \n",
    "        # Traiter les données\n",
    "        name = row['airport_name']\n",
    "        if name not in stats:\n",
    "            stats[name] = 1\n",
    "        else:\n",
    "            stats[name] += 1\n",
    "\n",
    "ordered_airports = sorted(stats.items(), key=lambda airport: airport[1], reverse=True)\n",
    "\n",
    "# Afficher et formater les données\n",
    "for name, strikes in ordered_airports[:3]:\n",
    "    print(f\"{name} ({strikes})\")\n",
    "   "
   ]
  },
  {
   "cell_type": "code",
   "execution_count": 26,
   "id": "0ab9676d-b4ab-4637-9805-44f5a24c3bb5",
   "metadata": {},
   "outputs": [
    {
     "name": "stdout",
     "output_type": "stream",
     "text": [
      "DALLAS/FORT WORTH INTL ARPT (803)\n",
      "SACRAMENTO INTL (676)\n",
      "SALT LAKE CITY INTL (479)\n"
     ]
    }
   ],
   "source": [
    "import csv \n",
    "from collections import Counter\n",
    "\n",
    "with open('bird_strikes.csv', encoding=\"utf8\") as f:\n",
    "    stats = Counter(row['airport_name'] for row in csv.DictReader(f))\n",
    "\n",
    "for name, strikes in stats.most_common(3):\n",
    "    print(f\"{name} ({strikes})\")"
   ]
  },
  {
   "cell_type": "code",
   "execution_count": 31,
   "id": "2ed01f36-9cf2-4a84-b72e-01224a6e50dc",
   "metadata": {},
   "outputs": [
    {
     "name": "stdout",
     "output_type": "stream",
     "text": [
      "airport_name\n",
      "DALLAS/FORT WORTH INTL ARPT    803\n",
      "SACRAMENTO INTL                676\n",
      "SALT LAKE CITY INTL            479\n",
      "Name: count, dtype: int64\n"
     ]
    }
   ],
   "source": [
    "import pandas as pd\n",
    "df = pd.read_csv('bird_strikes.csv')\n",
    "print(df['airport_name'].value_counts().head(3))"
   ]
  },
  {
   "cell_type": "markdown",
   "id": "c63460b4-cad4-4166-8980-798cb94e9d1d",
   "metadata": {},
   "source": [
    "# API web"
   ]
  },
  {
   "cell_type": "code",
   "execution_count": 2,
   "id": "6393f991-4d03-4856-8806-183d350b224d",
   "metadata": {},
   "outputs": [
    {
     "name": "stdout",
     "output_type": "stream",
     "text": [
      "200\n",
      "{'message': 'https://images.dog.ceo/breeds/schnauzer-giant/n02097130_864.jpg', 'status': 'success'}\n",
      "message https://images.dog.ceo/breeds/schnauzer-giant/n02097130_864.jpg\n",
      "status success\n"
     ]
    }
   ],
   "source": [
    "import requests\n",
    "\n",
    "# On demande la resource en mode lecture avec GET\n",
    "response = requests.get('https://dog.ceo/api/breeds/image/random')\n",
    "\n",
    "# Est-ce que la requête s'est bien passé ? https://developer.mozilla.org/en-US/docs/Web/HTTP/Status\n",
    "print(response.status_code)\n",
    "\n",
    "print(response.json())\n",
    "\n",
    "# Convertir la réponse de JSON en structure de données python\n",
    "data = response.json()\n",
    "\n",
    "for champ, valeur in data.items():\n",
    "    print(champ, valeur)"
   ]
  },
  {
   "cell_type": "code",
   "execution_count": 33,
   "id": "bf564f72-257a-47ee-8c74-d11b03d1878f",
   "metadata": {},
   "outputs": [
    {
     "name": "stdout",
     "output_type": "stream",
     "text": [
      "107\n",
      "affenpinscher\n",
      "african\n",
      "airedale\n",
      "akita\n",
      "appenzeller\n",
      "australian\n",
      "bakharwal\n",
      "basenji\n",
      "beagle\n",
      "bluetick\n",
      "borzoi\n",
      "bouvier\n",
      "boxer\n",
      "brabancon\n",
      "briard\n",
      "buhund\n",
      "bulldog\n",
      "bullterrier\n",
      "cattledog\n",
      "cavapoo\n",
      "chihuahua\n",
      "chippiparai\n",
      "chow\n",
      "clumber\n",
      "cockapoo\n",
      "collie\n",
      "coonhound\n",
      "corgi\n",
      "cotondetulear\n",
      "dachshund\n",
      "dalmatian\n",
      "dane\n",
      "danish\n",
      "deerhound\n",
      "dhole\n",
      "dingo\n",
      "doberman\n",
      "elkhound\n",
      "entlebucher\n",
      "eskimo\n",
      "finnish\n",
      "frise\n",
      "gaddi\n",
      "germanshepherd\n",
      "greyhound\n",
      "groenendael\n",
      "havanese\n",
      "hound\n",
      "husky\n",
      "keeshond\n",
      "kelpie\n",
      "kombai\n",
      "komondor\n",
      "kuvasz\n",
      "labradoodle\n",
      "labrador\n",
      "leonberg\n",
      "lhasa\n",
      "malamute\n",
      "malinois\n",
      "maltese\n",
      "mastiff\n",
      "mexicanhairless\n",
      "mix\n",
      "mountain\n",
      "mudhol\n",
      "newfoundland\n",
      "otterhound\n",
      "ovcharka\n",
      "papillon\n",
      "pariah\n",
      "pekinese\n",
      "pembroke\n",
      "pinscher\n",
      "pitbull\n",
      "pointer\n",
      "pomeranian\n",
      "poodle\n",
      "pug\n",
      "puggle\n",
      "pyrenees\n",
      "rajapalayam\n",
      "redbone\n",
      "retriever\n",
      "ridgeback\n",
      "rottweiler\n",
      "saluki\n",
      "samoyed\n",
      "schipperke\n",
      "schnauzer\n",
      "segugio\n",
      "setter\n",
      "sharpei\n",
      "sheepdog\n",
      "shiba\n",
      "shihtzu\n",
      "spaniel\n",
      "spitz\n",
      "springer\n",
      "stbernard\n",
      "terrier\n",
      "tervuren\n",
      "vizsla\n",
      "waterdog\n",
      "weimaraner\n",
      "whippet\n",
      "wolfhound\n"
     ]
    }
   ],
   "source": [
    "response = requests.get('https://dog.ceo/api/breeds/list/all')\n",
    "\n",
    "data = response.json()\n",
    "\n",
    "print(len(data['message']))\n",
    "\n",
    "for breed in data['message'].keys():\n",
    "    print(breed)"
   ]
  },
  {
   "cell_type": "markdown",
   "id": "44b72d30-d26c-4550-9224-ae08a4ea9e73",
   "metadata": {},
   "source": [
    "# Exercice\n",
    "- Avec input(), demander l'utilisateur de quelle race de chien il veut voir la photo\n",
    "- Faire un appel pour regarder la liste des races et vérifier qu'elle est disponible\n",
    "- Si la race n'est pas disponible, le dire l'utilisateur\n",
    "- Si elle est disponible, faire une nouvelle requête à l'api pour obtenir les photos de cette race \n",
    "- Prendre la première photo, et l'ouvrir dans le navigateur"
   ]
  },
  {
   "cell_type": "code",
   "execution_count": 66,
   "id": "7420b4fc-61a6-4e74-8394-4585b862bd78",
   "metadata": {},
   "outputs": [
    {
     "name": "stdin",
     "output_type": "stream",
     "text": [
      "Quelle race de chien voulez-vous afficher? toto\n"
     ]
    },
    {
     "name": "stdout",
     "output_type": "stream",
     "text": [
      "This breed is not in the list we have, sorry :(\n"
     ]
    }
   ],
   "source": [
    "import requests\n",
    "import webbrowser\n",
    "\n",
    "breed = input(\"Quelle race de chien voulez-vous afficher?\").strip().lower()\n",
    "\n",
    "response = requests.get('https://dog.ceo/api/breeds/list/all')\n",
    "\n",
    "all_breeds = response.json()['message']\n",
    "\n",
    "if breed not in all_breeds:\n",
    "    print('This breed is not in the list we have, sorry :(')\n",
    "else:\n",
    "    response = requests.get(f'https://dog.ceo/api/breed/{breed}/images/random')\n",
    "    pic = response.json()['message']\n",
    "    webbrowser.open(pic)"
   ]
  },
  {
   "cell_type": "markdown",
   "id": "b0680f7e-d3ea-4e01-94fa-bc780db4b68e",
   "metadata": {},
   "source": [
    "# Gérer les exceptions"
   ]
  },
  {
   "cell_type": "code",
   "execution_count": 113,
   "id": "2ee547cc-1190-4ec6-b0e6-2dba4b6f4d62",
   "metadata": {},
   "outputs": [
    {
     "name": "stdout",
     "output_type": "stream",
     "text": [
      "0.25\n",
      "0.5\n",
      "0.25\n",
      "0.3333333333333333\n",
      "pouet\n"
     ]
    }
   ],
   "source": [
    "import random\n",
    "\n",
    "for nombre in range(10):\n",
    "    try:\n",
    "        print(1 / random.randint(0, 5))\n",
    "    except ZeroDivisionError:\n",
    "        print('pouet')\n",
    "\n",
    " \n",
    "\n",
    "try:\n",
    "    for nombre in range(10):\n",
    "        print(1 / random.randint(0, 5))\n",
    "except ZeroDivisionError:\n",
    "    print('pouet')\n"
   ]
  },
  {
   "cell_type": "code",
   "execution_count": 114,
   "id": "33d0e163-3639-4ca0-bbab-92b77fb3338b",
   "metadata": {},
   "outputs": [
    {
     "name": "stdout",
     "output_type": "stream",
     "text": [
      "Toujours exécuté\n"
     ]
    },
    {
     "ename": "ConnectionError",
     "evalue": "HTTPConnectionPool(host='127.0.0.1', port=8000): Max retries exceeded with url: /add (Caused by NewConnectionError('<urllib3.connection.HTTPConnection object at 0x000001F216C5E1D0>: Failed to establish a new connection: [WinError 10061] No connection could be made because the target machine actively refused it'))",
     "output_type": "error",
     "traceback": [
      "\u001b[1;31m---------------------------------------------------------------------------\u001b[0m",
      "\u001b[1;31mConnectionRefusedError\u001b[0m                    Traceback (most recent call last)",
      "File \u001b[1;32m~\\Desktop\\formation_python_plb_juin_2024\\.venv\\Lib\\site-packages\\urllib3\\connection.py:198\u001b[0m, in \u001b[0;36mHTTPConnection._new_conn\u001b[1;34m(self)\u001b[0m\n\u001b[0;32m    197\u001b[0m \u001b[38;5;28;01mtry\u001b[39;00m:\n\u001b[1;32m--> 198\u001b[0m     sock \u001b[38;5;241m=\u001b[39m \u001b[43mconnection\u001b[49m\u001b[38;5;241;43m.\u001b[39;49m\u001b[43mcreate_connection\u001b[49m\u001b[43m(\u001b[49m\n\u001b[0;32m    199\u001b[0m \u001b[43m        \u001b[49m\u001b[43m(\u001b[49m\u001b[38;5;28;43mself\u001b[39;49m\u001b[38;5;241;43m.\u001b[39;49m\u001b[43m_dns_host\u001b[49m\u001b[43m,\u001b[49m\u001b[43m \u001b[49m\u001b[38;5;28;43mself\u001b[39;49m\u001b[38;5;241;43m.\u001b[39;49m\u001b[43mport\u001b[49m\u001b[43m)\u001b[49m\u001b[43m,\u001b[49m\n\u001b[0;32m    200\u001b[0m \u001b[43m        \u001b[49m\u001b[38;5;28;43mself\u001b[39;49m\u001b[38;5;241;43m.\u001b[39;49m\u001b[43mtimeout\u001b[49m\u001b[43m,\u001b[49m\n\u001b[0;32m    201\u001b[0m \u001b[43m        \u001b[49m\u001b[43msource_address\u001b[49m\u001b[38;5;241;43m=\u001b[39;49m\u001b[38;5;28;43mself\u001b[39;49m\u001b[38;5;241;43m.\u001b[39;49m\u001b[43msource_address\u001b[49m\u001b[43m,\u001b[49m\n\u001b[0;32m    202\u001b[0m \u001b[43m        \u001b[49m\u001b[43msocket_options\u001b[49m\u001b[38;5;241;43m=\u001b[39;49m\u001b[38;5;28;43mself\u001b[39;49m\u001b[38;5;241;43m.\u001b[39;49m\u001b[43msocket_options\u001b[49m\u001b[43m,\u001b[49m\n\u001b[0;32m    203\u001b[0m \u001b[43m    \u001b[49m\u001b[43m)\u001b[49m\n\u001b[0;32m    204\u001b[0m \u001b[38;5;28;01mexcept\u001b[39;00m socket\u001b[38;5;241m.\u001b[39mgaierror \u001b[38;5;28;01mas\u001b[39;00m e:\n",
      "File \u001b[1;32m~\\Desktop\\formation_python_plb_juin_2024\\.venv\\Lib\\site-packages\\urllib3\\util\\connection.py:85\u001b[0m, in \u001b[0;36mcreate_connection\u001b[1;34m(address, timeout, source_address, socket_options)\u001b[0m\n\u001b[0;32m     84\u001b[0m \u001b[38;5;28;01mtry\u001b[39;00m:\n\u001b[1;32m---> 85\u001b[0m     \u001b[38;5;28;01mraise\u001b[39;00m err\n\u001b[0;32m     86\u001b[0m \u001b[38;5;28;01mfinally\u001b[39;00m:\n\u001b[0;32m     87\u001b[0m     \u001b[38;5;66;03m# Break explicitly a reference cycle\u001b[39;00m\n",
      "File \u001b[1;32m~\\Desktop\\formation_python_plb_juin_2024\\.venv\\Lib\\site-packages\\urllib3\\util\\connection.py:73\u001b[0m, in \u001b[0;36mcreate_connection\u001b[1;34m(address, timeout, source_address, socket_options)\u001b[0m\n\u001b[0;32m     72\u001b[0m     sock\u001b[38;5;241m.\u001b[39mbind(source_address)\n\u001b[1;32m---> 73\u001b[0m \u001b[43msock\u001b[49m\u001b[38;5;241;43m.\u001b[39;49m\u001b[43mconnect\u001b[49m\u001b[43m(\u001b[49m\u001b[43msa\u001b[49m\u001b[43m)\u001b[49m\n\u001b[0;32m     74\u001b[0m \u001b[38;5;66;03m# Break explicitly a reference cycle\u001b[39;00m\n",
      "\u001b[1;31mConnectionRefusedError\u001b[0m: [WinError 10061] No connection could be made because the target machine actively refused it",
      "\nThe above exception was the direct cause of the following exception:\n",
      "\u001b[1;31mNewConnectionError\u001b[0m                        Traceback (most recent call last)",
      "File \u001b[1;32m~\\Desktop\\formation_python_plb_juin_2024\\.venv\\Lib\\site-packages\\urllib3\\connectionpool.py:793\u001b[0m, in \u001b[0;36mHTTPConnectionPool.urlopen\u001b[1;34m(self, method, url, body, headers, retries, redirect, assert_same_host, timeout, pool_timeout, release_conn, chunked, body_pos, preload_content, decode_content, **response_kw)\u001b[0m\n\u001b[0;32m    792\u001b[0m \u001b[38;5;66;03m# Make the request on the HTTPConnection object\u001b[39;00m\n\u001b[1;32m--> 793\u001b[0m response \u001b[38;5;241m=\u001b[39m \u001b[38;5;28;43mself\u001b[39;49m\u001b[38;5;241;43m.\u001b[39;49m\u001b[43m_make_request\u001b[49m\u001b[43m(\u001b[49m\n\u001b[0;32m    794\u001b[0m \u001b[43m    \u001b[49m\u001b[43mconn\u001b[49m\u001b[43m,\u001b[49m\n\u001b[0;32m    795\u001b[0m \u001b[43m    \u001b[49m\u001b[43mmethod\u001b[49m\u001b[43m,\u001b[49m\n\u001b[0;32m    796\u001b[0m \u001b[43m    \u001b[49m\u001b[43murl\u001b[49m\u001b[43m,\u001b[49m\n\u001b[0;32m    797\u001b[0m \u001b[43m    \u001b[49m\u001b[43mtimeout\u001b[49m\u001b[38;5;241;43m=\u001b[39;49m\u001b[43mtimeout_obj\u001b[49m\u001b[43m,\u001b[49m\n\u001b[0;32m    798\u001b[0m \u001b[43m    \u001b[49m\u001b[43mbody\u001b[49m\u001b[38;5;241;43m=\u001b[39;49m\u001b[43mbody\u001b[49m\u001b[43m,\u001b[49m\n\u001b[0;32m    799\u001b[0m \u001b[43m    \u001b[49m\u001b[43mheaders\u001b[49m\u001b[38;5;241;43m=\u001b[39;49m\u001b[43mheaders\u001b[49m\u001b[43m,\u001b[49m\n\u001b[0;32m    800\u001b[0m \u001b[43m    \u001b[49m\u001b[43mchunked\u001b[49m\u001b[38;5;241;43m=\u001b[39;49m\u001b[43mchunked\u001b[49m\u001b[43m,\u001b[49m\n\u001b[0;32m    801\u001b[0m \u001b[43m    \u001b[49m\u001b[43mretries\u001b[49m\u001b[38;5;241;43m=\u001b[39;49m\u001b[43mretries\u001b[49m\u001b[43m,\u001b[49m\n\u001b[0;32m    802\u001b[0m \u001b[43m    \u001b[49m\u001b[43mresponse_conn\u001b[49m\u001b[38;5;241;43m=\u001b[39;49m\u001b[43mresponse_conn\u001b[49m\u001b[43m,\u001b[49m\n\u001b[0;32m    803\u001b[0m \u001b[43m    \u001b[49m\u001b[43mpreload_content\u001b[49m\u001b[38;5;241;43m=\u001b[39;49m\u001b[43mpreload_content\u001b[49m\u001b[43m,\u001b[49m\n\u001b[0;32m    804\u001b[0m \u001b[43m    \u001b[49m\u001b[43mdecode_content\u001b[49m\u001b[38;5;241;43m=\u001b[39;49m\u001b[43mdecode_content\u001b[49m\u001b[43m,\u001b[49m\n\u001b[0;32m    805\u001b[0m \u001b[43m    \u001b[49m\u001b[38;5;241;43m*\u001b[39;49m\u001b[38;5;241;43m*\u001b[39;49m\u001b[43mresponse_kw\u001b[49m\u001b[43m,\u001b[49m\n\u001b[0;32m    806\u001b[0m \u001b[43m\u001b[49m\u001b[43m)\u001b[49m\n\u001b[0;32m    808\u001b[0m \u001b[38;5;66;03m# Everything went great!\u001b[39;00m\n",
      "File \u001b[1;32m~\\Desktop\\formation_python_plb_juin_2024\\.venv\\Lib\\site-packages\\urllib3\\connectionpool.py:496\u001b[0m, in \u001b[0;36mHTTPConnectionPool._make_request\u001b[1;34m(self, conn, method, url, body, headers, retries, timeout, chunked, response_conn, preload_content, decode_content, enforce_content_length)\u001b[0m\n\u001b[0;32m    495\u001b[0m \u001b[38;5;28;01mtry\u001b[39;00m:\n\u001b[1;32m--> 496\u001b[0m     \u001b[43mconn\u001b[49m\u001b[38;5;241;43m.\u001b[39;49m\u001b[43mrequest\u001b[49m\u001b[43m(\u001b[49m\n\u001b[0;32m    497\u001b[0m \u001b[43m        \u001b[49m\u001b[43mmethod\u001b[49m\u001b[43m,\u001b[49m\n\u001b[0;32m    498\u001b[0m \u001b[43m        \u001b[49m\u001b[43murl\u001b[49m\u001b[43m,\u001b[49m\n\u001b[0;32m    499\u001b[0m \u001b[43m        \u001b[49m\u001b[43mbody\u001b[49m\u001b[38;5;241;43m=\u001b[39;49m\u001b[43mbody\u001b[49m\u001b[43m,\u001b[49m\n\u001b[0;32m    500\u001b[0m \u001b[43m        \u001b[49m\u001b[43mheaders\u001b[49m\u001b[38;5;241;43m=\u001b[39;49m\u001b[43mheaders\u001b[49m\u001b[43m,\u001b[49m\n\u001b[0;32m    501\u001b[0m \u001b[43m        \u001b[49m\u001b[43mchunked\u001b[49m\u001b[38;5;241;43m=\u001b[39;49m\u001b[43mchunked\u001b[49m\u001b[43m,\u001b[49m\n\u001b[0;32m    502\u001b[0m \u001b[43m        \u001b[49m\u001b[43mpreload_content\u001b[49m\u001b[38;5;241;43m=\u001b[39;49m\u001b[43mpreload_content\u001b[49m\u001b[43m,\u001b[49m\n\u001b[0;32m    503\u001b[0m \u001b[43m        \u001b[49m\u001b[43mdecode_content\u001b[49m\u001b[38;5;241;43m=\u001b[39;49m\u001b[43mdecode_content\u001b[49m\u001b[43m,\u001b[49m\n\u001b[0;32m    504\u001b[0m \u001b[43m        \u001b[49m\u001b[43menforce_content_length\u001b[49m\u001b[38;5;241;43m=\u001b[39;49m\u001b[43menforce_content_length\u001b[49m\u001b[43m,\u001b[49m\n\u001b[0;32m    505\u001b[0m \u001b[43m    \u001b[49m\u001b[43m)\u001b[49m\n\u001b[0;32m    507\u001b[0m \u001b[38;5;66;03m# We are swallowing BrokenPipeError (errno.EPIPE) since the server is\u001b[39;00m\n\u001b[0;32m    508\u001b[0m \u001b[38;5;66;03m# legitimately able to close the connection after sending a valid response.\u001b[39;00m\n\u001b[0;32m    509\u001b[0m \u001b[38;5;66;03m# With this behaviour, the received response is still readable.\u001b[39;00m\n",
      "File \u001b[1;32m~\\Desktop\\formation_python_plb_juin_2024\\.venv\\Lib\\site-packages\\urllib3\\connection.py:400\u001b[0m, in \u001b[0;36mHTTPConnection.request\u001b[1;34m(self, method, url, body, headers, chunked, preload_content, decode_content, enforce_content_length)\u001b[0m\n\u001b[0;32m    399\u001b[0m     \u001b[38;5;28mself\u001b[39m\u001b[38;5;241m.\u001b[39mputheader(header, value)\n\u001b[1;32m--> 400\u001b[0m \u001b[38;5;28;43mself\u001b[39;49m\u001b[38;5;241;43m.\u001b[39;49m\u001b[43mendheaders\u001b[49m\u001b[43m(\u001b[49m\u001b[43m)\u001b[49m\n\u001b[0;32m    402\u001b[0m \u001b[38;5;66;03m# If we're given a body we start sending that in chunks.\u001b[39;00m\n",
      "File \u001b[1;32m~\\AppData\\Local\\Programs\\Python\\Python311\\Lib\\http\\client.py:1298\u001b[0m, in \u001b[0;36mHTTPConnection.endheaders\u001b[1;34m(self, message_body, encode_chunked)\u001b[0m\n\u001b[0;32m   1297\u001b[0m     \u001b[38;5;28;01mraise\u001b[39;00m CannotSendHeader()\n\u001b[1;32m-> 1298\u001b[0m \u001b[38;5;28;43mself\u001b[39;49m\u001b[38;5;241;43m.\u001b[39;49m\u001b[43m_send_output\u001b[49m\u001b[43m(\u001b[49m\u001b[43mmessage_body\u001b[49m\u001b[43m,\u001b[49m\u001b[43m \u001b[49m\u001b[43mencode_chunked\u001b[49m\u001b[38;5;241;43m=\u001b[39;49m\u001b[43mencode_chunked\u001b[49m\u001b[43m)\u001b[49m\n",
      "File \u001b[1;32m~\\AppData\\Local\\Programs\\Python\\Python311\\Lib\\http\\client.py:1058\u001b[0m, in \u001b[0;36mHTTPConnection._send_output\u001b[1;34m(self, message_body, encode_chunked)\u001b[0m\n\u001b[0;32m   1057\u001b[0m \u001b[38;5;28;01mdel\u001b[39;00m \u001b[38;5;28mself\u001b[39m\u001b[38;5;241m.\u001b[39m_buffer[:]\n\u001b[1;32m-> 1058\u001b[0m \u001b[38;5;28;43mself\u001b[39;49m\u001b[38;5;241;43m.\u001b[39;49m\u001b[43msend\u001b[49m\u001b[43m(\u001b[49m\u001b[43mmsg\u001b[49m\u001b[43m)\u001b[49m\n\u001b[0;32m   1060\u001b[0m \u001b[38;5;28;01mif\u001b[39;00m message_body \u001b[38;5;129;01mis\u001b[39;00m \u001b[38;5;129;01mnot\u001b[39;00m \u001b[38;5;28;01mNone\u001b[39;00m:\n\u001b[0;32m   1061\u001b[0m \n\u001b[0;32m   1062\u001b[0m     \u001b[38;5;66;03m# create a consistent interface to message_body\u001b[39;00m\n",
      "File \u001b[1;32m~\\AppData\\Local\\Programs\\Python\\Python311\\Lib\\http\\client.py:996\u001b[0m, in \u001b[0;36mHTTPConnection.send\u001b[1;34m(self, data)\u001b[0m\n\u001b[0;32m    995\u001b[0m \u001b[38;5;28;01mif\u001b[39;00m \u001b[38;5;28mself\u001b[39m\u001b[38;5;241m.\u001b[39mauto_open:\n\u001b[1;32m--> 996\u001b[0m     \u001b[38;5;28;43mself\u001b[39;49m\u001b[38;5;241;43m.\u001b[39;49m\u001b[43mconnect\u001b[49m\u001b[43m(\u001b[49m\u001b[43m)\u001b[49m\n\u001b[0;32m    997\u001b[0m \u001b[38;5;28;01melse\u001b[39;00m:\n",
      "File \u001b[1;32m~\\Desktop\\formation_python_plb_juin_2024\\.venv\\Lib\\site-packages\\urllib3\\connection.py:238\u001b[0m, in \u001b[0;36mHTTPConnection.connect\u001b[1;34m(self)\u001b[0m\n\u001b[0;32m    237\u001b[0m \u001b[38;5;28;01mdef\u001b[39;00m \u001b[38;5;21mconnect\u001b[39m(\u001b[38;5;28mself\u001b[39m) \u001b[38;5;241m-\u001b[39m\u001b[38;5;241m>\u001b[39m \u001b[38;5;28;01mNone\u001b[39;00m:\n\u001b[1;32m--> 238\u001b[0m     \u001b[38;5;28mself\u001b[39m\u001b[38;5;241m.\u001b[39msock \u001b[38;5;241m=\u001b[39m \u001b[38;5;28;43mself\u001b[39;49m\u001b[38;5;241;43m.\u001b[39;49m\u001b[43m_new_conn\u001b[49m\u001b[43m(\u001b[49m\u001b[43m)\u001b[49m\n\u001b[0;32m    239\u001b[0m     \u001b[38;5;28;01mif\u001b[39;00m \u001b[38;5;28mself\u001b[39m\u001b[38;5;241m.\u001b[39m_tunnel_host:\n\u001b[0;32m    240\u001b[0m         \u001b[38;5;66;03m# If we're tunneling it means we're connected to our proxy.\u001b[39;00m\n",
      "File \u001b[1;32m~\\Desktop\\formation_python_plb_juin_2024\\.venv\\Lib\\site-packages\\urllib3\\connection.py:213\u001b[0m, in \u001b[0;36mHTTPConnection._new_conn\u001b[1;34m(self)\u001b[0m\n\u001b[0;32m    212\u001b[0m \u001b[38;5;28;01mexcept\u001b[39;00m \u001b[38;5;167;01mOSError\u001b[39;00m \u001b[38;5;28;01mas\u001b[39;00m e:\n\u001b[1;32m--> 213\u001b[0m     \u001b[38;5;28;01mraise\u001b[39;00m NewConnectionError(\n\u001b[0;32m    214\u001b[0m         \u001b[38;5;28mself\u001b[39m, \u001b[38;5;124mf\u001b[39m\u001b[38;5;124m\"\u001b[39m\u001b[38;5;124mFailed to establish a new connection: \u001b[39m\u001b[38;5;132;01m{\u001b[39;00me\u001b[38;5;132;01m}\u001b[39;00m\u001b[38;5;124m\"\u001b[39m\n\u001b[0;32m    215\u001b[0m     ) \u001b[38;5;28;01mfrom\u001b[39;00m \u001b[38;5;21;01me\u001b[39;00m\n\u001b[0;32m    217\u001b[0m \u001b[38;5;66;03m# Audit hooks are only available in Python 3.8+\u001b[39;00m\n",
      "\u001b[1;31mNewConnectionError\u001b[0m: <urllib3.connection.HTTPConnection object at 0x000001F216C5E1D0>: Failed to establish a new connection: [WinError 10061] No connection could be made because the target machine actively refused it",
      "\nThe above exception was the direct cause of the following exception:\n",
      "\u001b[1;31mMaxRetryError\u001b[0m                             Traceback (most recent call last)",
      "File \u001b[1;32m~\\Desktop\\formation_python_plb_juin_2024\\.venv\\Lib\\site-packages\\requests\\adapters.py:667\u001b[0m, in \u001b[0;36mHTTPAdapter.send\u001b[1;34m(self, request, stream, timeout, verify, cert, proxies)\u001b[0m\n\u001b[0;32m    666\u001b[0m \u001b[38;5;28;01mtry\u001b[39;00m:\n\u001b[1;32m--> 667\u001b[0m     resp \u001b[38;5;241m=\u001b[39m \u001b[43mconn\u001b[49m\u001b[38;5;241;43m.\u001b[39;49m\u001b[43murlopen\u001b[49m\u001b[43m(\u001b[49m\n\u001b[0;32m    668\u001b[0m \u001b[43m        \u001b[49m\u001b[43mmethod\u001b[49m\u001b[38;5;241;43m=\u001b[39;49m\u001b[43mrequest\u001b[49m\u001b[38;5;241;43m.\u001b[39;49m\u001b[43mmethod\u001b[49m\u001b[43m,\u001b[49m\n\u001b[0;32m    669\u001b[0m \u001b[43m        \u001b[49m\u001b[43murl\u001b[49m\u001b[38;5;241;43m=\u001b[39;49m\u001b[43murl\u001b[49m\u001b[43m,\u001b[49m\n\u001b[0;32m    670\u001b[0m \u001b[43m        \u001b[49m\u001b[43mbody\u001b[49m\u001b[38;5;241;43m=\u001b[39;49m\u001b[43mrequest\u001b[49m\u001b[38;5;241;43m.\u001b[39;49m\u001b[43mbody\u001b[49m\u001b[43m,\u001b[49m\n\u001b[0;32m    671\u001b[0m \u001b[43m        \u001b[49m\u001b[43mheaders\u001b[49m\u001b[38;5;241;43m=\u001b[39;49m\u001b[43mrequest\u001b[49m\u001b[38;5;241;43m.\u001b[39;49m\u001b[43mheaders\u001b[49m\u001b[43m,\u001b[49m\n\u001b[0;32m    672\u001b[0m \u001b[43m        \u001b[49m\u001b[43mredirect\u001b[49m\u001b[38;5;241;43m=\u001b[39;49m\u001b[38;5;28;43;01mFalse\u001b[39;49;00m\u001b[43m,\u001b[49m\n\u001b[0;32m    673\u001b[0m \u001b[43m        \u001b[49m\u001b[43massert_same_host\u001b[49m\u001b[38;5;241;43m=\u001b[39;49m\u001b[38;5;28;43;01mFalse\u001b[39;49;00m\u001b[43m,\u001b[49m\n\u001b[0;32m    674\u001b[0m \u001b[43m        \u001b[49m\u001b[43mpreload_content\u001b[49m\u001b[38;5;241;43m=\u001b[39;49m\u001b[38;5;28;43;01mFalse\u001b[39;49;00m\u001b[43m,\u001b[49m\n\u001b[0;32m    675\u001b[0m \u001b[43m        \u001b[49m\u001b[43mdecode_content\u001b[49m\u001b[38;5;241;43m=\u001b[39;49m\u001b[38;5;28;43;01mFalse\u001b[39;49;00m\u001b[43m,\u001b[49m\n\u001b[0;32m    676\u001b[0m \u001b[43m        \u001b[49m\u001b[43mretries\u001b[49m\u001b[38;5;241;43m=\u001b[39;49m\u001b[38;5;28;43mself\u001b[39;49m\u001b[38;5;241;43m.\u001b[39;49m\u001b[43mmax_retries\u001b[49m\u001b[43m,\u001b[49m\n\u001b[0;32m    677\u001b[0m \u001b[43m        \u001b[49m\u001b[43mtimeout\u001b[49m\u001b[38;5;241;43m=\u001b[39;49m\u001b[43mtimeout\u001b[49m\u001b[43m,\u001b[49m\n\u001b[0;32m    678\u001b[0m \u001b[43m        \u001b[49m\u001b[43mchunked\u001b[49m\u001b[38;5;241;43m=\u001b[39;49m\u001b[43mchunked\u001b[49m\u001b[43m,\u001b[49m\n\u001b[0;32m    679\u001b[0m \u001b[43m    \u001b[49m\u001b[43m)\u001b[49m\n\u001b[0;32m    681\u001b[0m \u001b[38;5;28;01mexcept\u001b[39;00m (ProtocolError, \u001b[38;5;167;01mOSError\u001b[39;00m) \u001b[38;5;28;01mas\u001b[39;00m err:\n",
      "File \u001b[1;32m~\\Desktop\\formation_python_plb_juin_2024\\.venv\\Lib\\site-packages\\urllib3\\connectionpool.py:847\u001b[0m, in \u001b[0;36mHTTPConnectionPool.urlopen\u001b[1;34m(self, method, url, body, headers, retries, redirect, assert_same_host, timeout, pool_timeout, release_conn, chunked, body_pos, preload_content, decode_content, **response_kw)\u001b[0m\n\u001b[0;32m    845\u001b[0m     new_e \u001b[38;5;241m=\u001b[39m ProtocolError(\u001b[38;5;124m\"\u001b[39m\u001b[38;5;124mConnection aborted.\u001b[39m\u001b[38;5;124m\"\u001b[39m, new_e)\n\u001b[1;32m--> 847\u001b[0m retries \u001b[38;5;241m=\u001b[39m \u001b[43mretries\u001b[49m\u001b[38;5;241;43m.\u001b[39;49m\u001b[43mincrement\u001b[49m\u001b[43m(\u001b[49m\n\u001b[0;32m    848\u001b[0m \u001b[43m    \u001b[49m\u001b[43mmethod\u001b[49m\u001b[43m,\u001b[49m\u001b[43m \u001b[49m\u001b[43murl\u001b[49m\u001b[43m,\u001b[49m\u001b[43m \u001b[49m\u001b[43merror\u001b[49m\u001b[38;5;241;43m=\u001b[39;49m\u001b[43mnew_e\u001b[49m\u001b[43m,\u001b[49m\u001b[43m \u001b[49m\u001b[43m_pool\u001b[49m\u001b[38;5;241;43m=\u001b[39;49m\u001b[38;5;28;43mself\u001b[39;49m\u001b[43m,\u001b[49m\u001b[43m \u001b[49m\u001b[43m_stacktrace\u001b[49m\u001b[38;5;241;43m=\u001b[39;49m\u001b[43msys\u001b[49m\u001b[38;5;241;43m.\u001b[39;49m\u001b[43mexc_info\u001b[49m\u001b[43m(\u001b[49m\u001b[43m)\u001b[49m\u001b[43m[\u001b[49m\u001b[38;5;241;43m2\u001b[39;49m\u001b[43m]\u001b[49m\n\u001b[0;32m    849\u001b[0m \u001b[43m\u001b[49m\u001b[43m)\u001b[49m\n\u001b[0;32m    850\u001b[0m retries\u001b[38;5;241m.\u001b[39msleep()\n",
      "File \u001b[1;32m~\\Desktop\\formation_python_plb_juin_2024\\.venv\\Lib\\site-packages\\urllib3\\util\\retry.py:515\u001b[0m, in \u001b[0;36mRetry.increment\u001b[1;34m(self, method, url, response, error, _pool, _stacktrace)\u001b[0m\n\u001b[0;32m    514\u001b[0m     reason \u001b[38;5;241m=\u001b[39m error \u001b[38;5;129;01mor\u001b[39;00m ResponseError(cause)\n\u001b[1;32m--> 515\u001b[0m     \u001b[38;5;28;01mraise\u001b[39;00m MaxRetryError(_pool, url, reason) \u001b[38;5;28;01mfrom\u001b[39;00m \u001b[38;5;21;01mreason\u001b[39;00m  \u001b[38;5;66;03m# type: ignore[arg-type]\u001b[39;00m\n\u001b[0;32m    517\u001b[0m log\u001b[38;5;241m.\u001b[39mdebug(\u001b[38;5;124m\"\u001b[39m\u001b[38;5;124mIncremented Retry for (url=\u001b[39m\u001b[38;5;124m'\u001b[39m\u001b[38;5;132;01m%s\u001b[39;00m\u001b[38;5;124m'\u001b[39m\u001b[38;5;124m): \u001b[39m\u001b[38;5;132;01m%r\u001b[39;00m\u001b[38;5;124m\"\u001b[39m, url, new_retry)\n",
      "\u001b[1;31mMaxRetryError\u001b[0m: HTTPConnectionPool(host='127.0.0.1', port=8000): Max retries exceeded with url: /add (Caused by NewConnectionError('<urllib3.connection.HTTPConnection object at 0x000001F216C5E1D0>: Failed to establish a new connection: [WinError 10061] No connection could be made because the target machine actively refused it'))",
      "\nDuring handling of the above exception, another exception occurred:\n",
      "\u001b[1;31mConnectionError\u001b[0m                           Traceback (most recent call last)",
      "Cell \u001b[1;32mIn[114], line 12\u001b[0m\n\u001b[0;32m      6\u001b[0m payload \u001b[38;5;241m=\u001b[39m {\n\u001b[0;32m      7\u001b[0m     \u001b[38;5;124m\"\u001b[39m\u001b[38;5;124ma\u001b[39m\u001b[38;5;124m\"\u001b[39m: \u001b[38;5;241m10\u001b[39m,\n\u001b[0;32m      8\u001b[0m     \u001b[38;5;124m\"\u001b[39m\u001b[38;5;124mb\u001b[39m\u001b[38;5;124m\"\u001b[39m: \u001b[38;5;241m5\u001b[39m\n\u001b[0;32m      9\u001b[0m }\n\u001b[0;32m     11\u001b[0m \u001b[38;5;28;01mtry\u001b[39;00m:\n\u001b[1;32m---> 12\u001b[0m     response \u001b[38;5;241m=\u001b[39m \u001b[43mrequests\u001b[49m\u001b[38;5;241;43m.\u001b[39;49m\u001b[43mpost\u001b[49m\u001b[43m(\u001b[49m\u001b[43murl\u001b[49m\u001b[43m,\u001b[49m\u001b[43m \u001b[49m\u001b[43mjson\u001b[49m\u001b[38;5;241;43m=\u001b[39;49m\u001b[43mpayload\u001b[49m\u001b[43m)\u001b[49m\n\u001b[0;32m     13\u001b[0m \u001b[38;5;28;01mexcept\u001b[39;00m \u001b[38;5;167;01mConnectionRefusedError\u001b[39;00m:\n\u001b[0;32m     14\u001b[0m     \u001b[38;5;28mprint\u001b[39m(\u001b[38;5;124m'\u001b[39m\u001b[38;5;124mEtes vous certain de bien être connecté à internet ?\u001b[39m\u001b[38;5;124m'\u001b[39m)\n",
      "File \u001b[1;32m~\\Desktop\\formation_python_plb_juin_2024\\.venv\\Lib\\site-packages\\requests\\api.py:115\u001b[0m, in \u001b[0;36mpost\u001b[1;34m(url, data, json, **kwargs)\u001b[0m\n\u001b[0;32m    103\u001b[0m \u001b[38;5;28;01mdef\u001b[39;00m \u001b[38;5;21mpost\u001b[39m(url, data\u001b[38;5;241m=\u001b[39m\u001b[38;5;28;01mNone\u001b[39;00m, json\u001b[38;5;241m=\u001b[39m\u001b[38;5;28;01mNone\u001b[39;00m, \u001b[38;5;241m*\u001b[39m\u001b[38;5;241m*\u001b[39mkwargs):\n\u001b[0;32m    104\u001b[0m \u001b[38;5;250m    \u001b[39m\u001b[38;5;124mr\u001b[39m\u001b[38;5;124;03m\"\"\"Sends a POST request.\u001b[39;00m\n\u001b[0;32m    105\u001b[0m \n\u001b[0;32m    106\u001b[0m \u001b[38;5;124;03m    :param url: URL for the new :class:`Request` object.\u001b[39;00m\n\u001b[1;32m   (...)\u001b[0m\n\u001b[0;32m    112\u001b[0m \u001b[38;5;124;03m    :rtype: requests.Response\u001b[39;00m\n\u001b[0;32m    113\u001b[0m \u001b[38;5;124;03m    \"\"\"\u001b[39;00m\n\u001b[1;32m--> 115\u001b[0m     \u001b[38;5;28;01mreturn\u001b[39;00m \u001b[43mrequest\u001b[49m\u001b[43m(\u001b[49m\u001b[38;5;124;43m\"\u001b[39;49m\u001b[38;5;124;43mpost\u001b[39;49m\u001b[38;5;124;43m\"\u001b[39;49m\u001b[43m,\u001b[49m\u001b[43m \u001b[49m\u001b[43murl\u001b[49m\u001b[43m,\u001b[49m\u001b[43m \u001b[49m\u001b[43mdata\u001b[49m\u001b[38;5;241;43m=\u001b[39;49m\u001b[43mdata\u001b[49m\u001b[43m,\u001b[49m\u001b[43m \u001b[49m\u001b[43mjson\u001b[49m\u001b[38;5;241;43m=\u001b[39;49m\u001b[43mjson\u001b[49m\u001b[43m,\u001b[49m\u001b[43m \u001b[49m\u001b[38;5;241;43m*\u001b[39;49m\u001b[38;5;241;43m*\u001b[39;49m\u001b[43mkwargs\u001b[49m\u001b[43m)\u001b[49m\n",
      "File \u001b[1;32m~\\Desktop\\formation_python_plb_juin_2024\\.venv\\Lib\\site-packages\\requests\\api.py:59\u001b[0m, in \u001b[0;36mrequest\u001b[1;34m(method, url, **kwargs)\u001b[0m\n\u001b[0;32m     55\u001b[0m \u001b[38;5;66;03m# By using the 'with' statement we are sure the session is closed, thus we\u001b[39;00m\n\u001b[0;32m     56\u001b[0m \u001b[38;5;66;03m# avoid leaving sockets open which can trigger a ResourceWarning in some\u001b[39;00m\n\u001b[0;32m     57\u001b[0m \u001b[38;5;66;03m# cases, and look like a memory leak in others.\u001b[39;00m\n\u001b[0;32m     58\u001b[0m \u001b[38;5;28;01mwith\u001b[39;00m sessions\u001b[38;5;241m.\u001b[39mSession() \u001b[38;5;28;01mas\u001b[39;00m session:\n\u001b[1;32m---> 59\u001b[0m     \u001b[38;5;28;01mreturn\u001b[39;00m \u001b[43msession\u001b[49m\u001b[38;5;241;43m.\u001b[39;49m\u001b[43mrequest\u001b[49m\u001b[43m(\u001b[49m\u001b[43mmethod\u001b[49m\u001b[38;5;241;43m=\u001b[39;49m\u001b[43mmethod\u001b[49m\u001b[43m,\u001b[49m\u001b[43m \u001b[49m\u001b[43murl\u001b[49m\u001b[38;5;241;43m=\u001b[39;49m\u001b[43murl\u001b[49m\u001b[43m,\u001b[49m\u001b[43m \u001b[49m\u001b[38;5;241;43m*\u001b[39;49m\u001b[38;5;241;43m*\u001b[39;49m\u001b[43mkwargs\u001b[49m\u001b[43m)\u001b[49m\n",
      "File \u001b[1;32m~\\Desktop\\formation_python_plb_juin_2024\\.venv\\Lib\\site-packages\\requests\\sessions.py:589\u001b[0m, in \u001b[0;36mSession.request\u001b[1;34m(self, method, url, params, data, headers, cookies, files, auth, timeout, allow_redirects, proxies, hooks, stream, verify, cert, json)\u001b[0m\n\u001b[0;32m    584\u001b[0m send_kwargs \u001b[38;5;241m=\u001b[39m {\n\u001b[0;32m    585\u001b[0m     \u001b[38;5;124m\"\u001b[39m\u001b[38;5;124mtimeout\u001b[39m\u001b[38;5;124m\"\u001b[39m: timeout,\n\u001b[0;32m    586\u001b[0m     \u001b[38;5;124m\"\u001b[39m\u001b[38;5;124mallow_redirects\u001b[39m\u001b[38;5;124m\"\u001b[39m: allow_redirects,\n\u001b[0;32m    587\u001b[0m }\n\u001b[0;32m    588\u001b[0m send_kwargs\u001b[38;5;241m.\u001b[39mupdate(settings)\n\u001b[1;32m--> 589\u001b[0m resp \u001b[38;5;241m=\u001b[39m \u001b[38;5;28;43mself\u001b[39;49m\u001b[38;5;241;43m.\u001b[39;49m\u001b[43msend\u001b[49m\u001b[43m(\u001b[49m\u001b[43mprep\u001b[49m\u001b[43m,\u001b[49m\u001b[43m \u001b[49m\u001b[38;5;241;43m*\u001b[39;49m\u001b[38;5;241;43m*\u001b[39;49m\u001b[43msend_kwargs\u001b[49m\u001b[43m)\u001b[49m\n\u001b[0;32m    591\u001b[0m \u001b[38;5;28;01mreturn\u001b[39;00m resp\n",
      "File \u001b[1;32m~\\Desktop\\formation_python_plb_juin_2024\\.venv\\Lib\\site-packages\\requests\\sessions.py:703\u001b[0m, in \u001b[0;36mSession.send\u001b[1;34m(self, request, **kwargs)\u001b[0m\n\u001b[0;32m    700\u001b[0m start \u001b[38;5;241m=\u001b[39m preferred_clock()\n\u001b[0;32m    702\u001b[0m \u001b[38;5;66;03m# Send the request\u001b[39;00m\n\u001b[1;32m--> 703\u001b[0m r \u001b[38;5;241m=\u001b[39m \u001b[43madapter\u001b[49m\u001b[38;5;241;43m.\u001b[39;49m\u001b[43msend\u001b[49m\u001b[43m(\u001b[49m\u001b[43mrequest\u001b[49m\u001b[43m,\u001b[49m\u001b[43m \u001b[49m\u001b[38;5;241;43m*\u001b[39;49m\u001b[38;5;241;43m*\u001b[39;49m\u001b[43mkwargs\u001b[49m\u001b[43m)\u001b[49m\n\u001b[0;32m    705\u001b[0m \u001b[38;5;66;03m# Total elapsed time of the request (approximately)\u001b[39;00m\n\u001b[0;32m    706\u001b[0m elapsed \u001b[38;5;241m=\u001b[39m preferred_clock() \u001b[38;5;241m-\u001b[39m start\n",
      "File \u001b[1;32m~\\Desktop\\formation_python_plb_juin_2024\\.venv\\Lib\\site-packages\\requests\\adapters.py:700\u001b[0m, in \u001b[0;36mHTTPAdapter.send\u001b[1;34m(self, request, stream, timeout, verify, cert, proxies)\u001b[0m\n\u001b[0;32m    696\u001b[0m     \u001b[38;5;28;01mif\u001b[39;00m \u001b[38;5;28misinstance\u001b[39m(e\u001b[38;5;241m.\u001b[39mreason, _SSLError):\n\u001b[0;32m    697\u001b[0m         \u001b[38;5;66;03m# This branch is for urllib3 v1.22 and later.\u001b[39;00m\n\u001b[0;32m    698\u001b[0m         \u001b[38;5;28;01mraise\u001b[39;00m SSLError(e, request\u001b[38;5;241m=\u001b[39mrequest)\n\u001b[1;32m--> 700\u001b[0m     \u001b[38;5;28;01mraise\u001b[39;00m \u001b[38;5;167;01mConnectionError\u001b[39;00m(e, request\u001b[38;5;241m=\u001b[39mrequest)\n\u001b[0;32m    702\u001b[0m \u001b[38;5;28;01mexcept\u001b[39;00m ClosedPoolError \u001b[38;5;28;01mas\u001b[39;00m e:\n\u001b[0;32m    703\u001b[0m     \u001b[38;5;28;01mraise\u001b[39;00m \u001b[38;5;167;01mConnectionError\u001b[39;00m(e, request\u001b[38;5;241m=\u001b[39mrequest)\n",
      "\u001b[1;31mConnectionError\u001b[0m: HTTPConnectionPool(host='127.0.0.1', port=8000): Max retries exceeded with url: /add (Caused by NewConnectionError('<urllib3.connection.HTTPConnection object at 0x000001F216C5E1D0>: Failed to establish a new connection: [WinError 10061] No connection could be made because the target machine actively refused it'))"
     ]
    }
   ],
   "source": [
    "import requests\n",
    "import time\n",
    "\n",
    "url = \"http://127.0.0.1:8000/add\"\n",
    "\n",
    "payload = {\n",
    "    \"a\": 10,\n",
    "    \"b\": 5\n",
    "}\n",
    "\n",
    "try:\n",
    "    response = requests.post(url, json=payload)\n",
    "except ConnectionRefusedError:\n",
    "    print('Etes vous certain de bien être connecté à internet ?')\n",
    "except ConnectionResetError:\n",
    "    print('La connection a échoué durant le calcul')\n",
    "else:\n",
    "    if response.status_code == 200:\n",
    "        print(\"Success:\", response.json())\n",
    "    else:\n",
    "        print(\"Error:\", response.status_code)\n",
    "finally:\n",
    "    print('Toujours exécuté')\n"
   ]
  },
  {
   "cell_type": "markdown",
   "id": "165fb20c-ace5-41a9-bf2e-5cbb7ee0f5a2",
   "metadata": {},
   "source": [
    "# Exercice\n",
    "\n",
    "- Demander le fichier de chanson à l'utilisateur\n",
    "- Si en ouvrant le fichier, on a un OSError, on arrête tout et on indique à l'utilisateur qu'il y a un problème\n"
   ]
  },
  {
   "cell_type": "code",
   "execution_count": 116,
   "id": "2f41aedc-b2e9-43ab-af16-4bc65a3ee20b",
   "metadata": {},
   "outputs": [
    {
     "name": "stdout",
     "output_type": "stream",
     "text": [
      "Impossible d'ouvrir le fichier:  [Errno 2] No such file or directory: 'songs.txt'\n"
     ]
    }
   ],
   "source": [
    "import string\n",
    "\n",
    "try:\n",
    "    with open('songs.txt', 'rt', encoding=\"utf8\") as f:\n",
    "        text = f.read().casefold()\n",
    "        for punc in string.punctuation:\n",
    "            text = text.replace(punc, ' ')\n",
    "        text = text.split()\n",
    "    \n",
    "    stats = {}\n",
    "    \n",
    "    for word in text:\n",
    "        if word in stats:\n",
    "            stats[word] += 1\n",
    "        else:\n",
    "            stats[word] = 1\n",
    "    \n",
    "    print(stats)\n",
    "except IOError as e:\n",
    "    print(\"Impossible d'ouvrir le fichier: \", e)"
   ]
  },
  {
   "cell_type": "markdown",
   "id": "204b79de-39ab-47f4-b1bf-e635253680c7",
   "metadata": {},
   "source": [
    "# Accès aux bases de données"
   ]
  },
  {
   "cell_type": "code",
   "execution_count": 85,
   "id": "52dbe2d5-8e45-4779-9125-ef430438b906",
   "metadata": {},
   "outputs": [],
   "source": [
    "import sqlite3\n",
    "\n",
    "connexion = sqlite3.connect('products.db')\n",
    "cursor  = connexion.cursor()\n",
    "\n",
    "cursor.execute('''\n",
    "CREATE TABLE IF NOT EXISTS products (\n",
    "    id INTEGER PRIMARY KEY AUTOINCREMENT,\n",
    "    name TEXT NOT NULL,\n",
    "    price REAL NOT NULL\n",
    ")\n",
    "''')\n",
    "\n",
    "products = [\n",
    "    ('Apple', 1.2),\n",
    "    ('Banana', 0.8),\n",
    "    ('Orange', 1.5),\n",
    "    ('Tomato', 2.0),\n",
    "    ('Potato', 0.5),\n",
    "    ('Carrot', 0.7),\n",
    "    ('Lettuce', 1.0),\n",
    "    ('Broccoli', 1.8),\n",
    "    ('Strawberry', 3.0),\n",
    "    ('Blueberry', 2.5)\n",
    "]\n",
    "\n",
    "cursor.executemany('INSERT INTO products (name, price) VALUES (?, ?)', products)\n",
    "connexion.commit()\n",
    "connexion.close()"
   ]
  },
  {
   "cell_type": "code",
   "execution_count": 93,
   "id": "b1f42500-0a3d-4536-a88b-6241048b4f22",
   "metadata": {},
   "outputs": [
    {
     "name": "stdout",
     "output_type": "stream",
     "text": [
      "Product: Strawberry, Price: $3.00\n",
      "Product: Blueberry, Price: $2.50\n",
      "Product: Tomato, Price: $2.00\n",
      "Product: Strawberry, Price: $3.00\n",
      "Product: Blueberry, Price: $2.50\n",
      "Product: Tomato, Price: $2.00\n"
     ]
    }
   ],
   "source": [
    "import sqlite3\n",
    "\n",
    "with sqlite3.connect('products.db') as connexion:\n",
    "    cursor  = connexion.cursor()\n",
    "\n",
    "    # Retourne moi les 3 produits les plus chers\n",
    "    results = cursor.execute('SELECT name, price FROM products ORDER BY price DESC LIMIT 3')\n",
    "    \n",
    "    for product in results:\n",
    "        print(f'Product: {product[0]}, Price: ${product[1]:.2f}')\n",
    "\n",
    "with sqlite3.connect('products.db') as connexion:\n",
    "    cursor  = connexion.cursor()\n",
    "\n",
    "    # Retourne moi les 3 produits les plus chers\n",
    "    results = cursor.execute('SELECT name, price FROM products')\n",
    "    \n",
    "    for product in sorted(results, key=lambda e: e[1], reverse=True)[:3]:\n",
    "        print(f'Product: {product[0]}, Price: ${product[1]:.2f}')\n",
    "    "
   ]
  },
  {
   "cell_type": "code",
   "execution_count": 120,
   "id": "290effa3-df95-4967-843b-ae06c3506918",
   "metadata": {},
   "outputs": [
    {
     "data": {
      "text/plain": [
       "True"
      ]
     },
     "execution_count": 120,
     "metadata": {},
     "output_type": "execute_result"
    }
   ],
   "source": [
    "# Use the ORM (Object relational mapping) peewee\n",
    "from peewee import SqliteDatabase, Model, CharField, FloatField\n",
    "\n",
    "db = SqliteDatabase('products.db')\n",
    "\n",
    "class Product(Model):\n",
    "    name = CharField()\n",
    "    price = FloatField()\n",
    "\n",
    "    class Meta:\n",
    "        database = db\n",
    "\n",
    "db.connect()\n",
    "db.create_tables([Product], safe=True)\n",
    "\n",
    "products = [\n",
    "    {'name': 'Apple', 'price': 1.2},\n",
    "    {'name': 'Banana', 'price': 0.8},\n",
    "    {'name': 'Orange', 'price': 1.5},\n",
    "    {'name': 'Tomato', 'price': 2.0},\n",
    "    {'name': 'Potato', 'price': 0.5},\n",
    "    {'name': 'Carrot', 'price': 0.7},\n",
    "    {'name': 'Lettuce', 'price': 1.0},\n",
    "    {'name': 'Broccoli', 'price': 1.8},\n",
    "    {'name': 'Strawberry', 'price': 3.0},\n",
    "    {'name': 'Blueberry', 'price': 2.5}\n",
    "]\n",
    "\n",
    "with db.atomic():\n",
    "    Product.insert_many(products).execute()\n",
    "\n",
    "db.close()"
   ]
  },
  {
   "cell_type": "code",
   "execution_count": 121,
   "id": "befdef4f-e524-456e-aa8e-917d28d4861e",
   "metadata": {},
   "outputs": [
    {
     "name": "stdout",
     "output_type": "stream",
     "text": [
      "Product: Strawberry, Price: $3.00\n",
      "Product: Blueberry, Price: $2.50\n",
      "Product: Tomato, Price: $2.00\n"
     ]
    }
   ],
   "source": [
    "from peewee import SqliteDatabase\n",
    "\n",
    "db = SqliteDatabase('products.db')\n",
    "\n",
    "# SELECT name, price FROM products ORDER BY price DESC LIMIT 3\n",
    "top_3_expensive_products = Product.select().order_by(Product.price.desc()).limit(3)\n",
    "\n",
    "for product in top_3_expensive_products:\n",
    "    print(f'Product: {product.name}, Price: ${product.price:.2f}')\n"
   ]
  },
  {
   "cell_type": "markdown",
   "id": "e302327f-f3f8-4d4e-b9cb-888320092859",
   "metadata": {},
   "source": [
    "# Lire un fichier exsel"
   ]
  },
  {
   "cell_type": "code",
   "execution_count": 112,
   "id": "313776f4-74ba-4a12-a96d-20d9de5a1c8a",
   "metadata": {},
   "outputs": [
    {
     "name": "stdout",
     "output_type": "stream",
     "text": [
      "DALLAS/FORT WORTH INTL ARPT 803\n",
      "SACRAMENTO INTL 676\n",
      "SALT LAKE CITY INTL 479\n"
     ]
    }
   ],
   "source": [
    "import openpyxl\n",
    "from collections import Counte\n",
    "\n",
    "book = openpyxl.load_workbook(\"bird_strikes.xlsx\")\n",
    "    \n",
    "sheet = book.worksheets[0]\n",
    "\n",
    "rows = sheet.iter_rows(min_row=1, min_col=1, max_col=26)\n",
    "\n",
    "airports = []\n",
    "for row in rows:\n",
    "    airports.append(row[2].value)\n",
    "\n",
    "airports.pop(0)\n",
    "\n",
    "stats = Counter(airports)\n",
    "for name, stats in stats.most_common(3):\n",
    "    print(name, stats)"
   ]
  },
  {
   "cell_type": "code",
   "execution_count": null,
   "id": "633d3068-1c92-45ba-9426-8826b366f077",
   "metadata": {},
   "outputs": [],
   "source": []
  }
 ],
 "metadata": {
  "kernelspec": {
   "display_name": "Python 3 (ipykernel)",
   "language": "python",
   "name": "python3"
  },
  "language_info": {
   "codemirror_mode": {
    "name": "ipython",
    "version": 3
   },
   "file_extension": ".py",
   "mimetype": "text/x-python",
   "name": "python",
   "nbconvert_exporter": "python",
   "pygments_lexer": "ipython3",
   "version": "3.11.9"
  }
 },
 "nbformat": 4,
 "nbformat_minor": 5
}
